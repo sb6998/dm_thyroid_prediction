{
  "nbformat": 4,
  "nbformat_minor": 0,
  "metadata": {
    "kernelspec": {
      "display_name": "Python 3",
      "language": "python",
      "name": "python3"
    },
    "language_info": {
      "codemirror_mode": {
        "name": "ipython",
        "version": 3
      },
      "file_extension": ".py",
      "mimetype": "text/x-python",
      "name": "python",
      "nbconvert_exporter": "python",
      "pygments_lexer": "ipython3",
      "version": "3.7.7"
    },
    "colab": {
      "name": "Thyroid_final.ipynb",
      "provenance": []
    }
  },
  "cells": [
    {
      "cell_type": "code",
      "metadata": {
        "id": "kpXVZM9rKmiW"
      },
      "source": [
        "import pandas as pd\n",
        "import numpy as np\n",
        "import matplotlib.pyplot as plt\n",
        "import seaborn as sns"
      ],
      "execution_count": 1,
      "outputs": []
    },
    {
      "cell_type": "code",
      "metadata": {
        "id": "Y-h9hviiKmiZ"
      },
      "source": [
        "thy = pd.read_csv('/content/sample_data/uci_thyroid03.csv')"
      ],
      "execution_count": 2,
      "outputs": []
    },
    {
      "cell_type": "code",
      "metadata": {
        "id": "PRMhZ5vjKmic",
        "outputId": "c35934c7-0637-4f05-9218-34726278e0cf",
        "colab": {
          "base_uri": "https://localhost:8080/",
          "height": 436
        }
      },
      "source": [
        "thy"
      ],
      "execution_count": 3,
      "outputs": [
        {
          "output_type": "execute_result",
          "data": {
            "text/html": [
              "<div>\n",
              "<style scoped>\n",
              "    .dataframe tbody tr th:only-of-type {\n",
              "        vertical-align: middle;\n",
              "    }\n",
              "\n",
              "    .dataframe tbody tr th {\n",
              "        vertical-align: top;\n",
              "    }\n",
              "\n",
              "    .dataframe thead th {\n",
              "        text-align: right;\n",
              "    }\n",
              "</style>\n",
              "<table border=\"1\" class=\"dataframe\">\n",
              "  <thead>\n",
              "    <tr style=\"text-align: right;\">\n",
              "      <th></th>\n",
              "      <th>age</th>\n",
              "      <th>sex</th>\n",
              "      <th>on_thyroxine</th>\n",
              "      <th>query_on_thyroxine</th>\n",
              "      <th>on_antithyroid_medication</th>\n",
              "      <th>sick</th>\n",
              "      <th>pregnant</th>\n",
              "      <th>thyroid_surgery</th>\n",
              "      <th>I131_treatment</th>\n",
              "      <th>query_hypothyroid</th>\n",
              "      <th>query_hyperthyroid</th>\n",
              "      <th>lithium</th>\n",
              "      <th>goitre</th>\n",
              "      <th>tumor</th>\n",
              "      <th>hypopituitary</th>\n",
              "      <th>psych</th>\n",
              "      <th>TSH_measured</th>\n",
              "      <th>TSH</th>\n",
              "      <th>T3 measured</th>\n",
              "      <th>T3</th>\n",
              "      <th>TT4_measured</th>\n",
              "      <th>TT4</th>\n",
              "      <th>T4U_measured</th>\n",
              "      <th>T4U</th>\n",
              "      <th>FTI_measured</th>\n",
              "      <th>FTI</th>\n",
              "      <th>TBG_measured</th>\n",
              "      <th>TBG</th>\n",
              "      <th>referral_source</th>\n",
              "      <th>thyroid_class</th>\n",
              "    </tr>\n",
              "  </thead>\n",
              "  <tbody>\n",
              "    <tr>\n",
              "      <th>0</th>\n",
              "      <td>23</td>\n",
              "      <td>F</td>\n",
              "      <td>f</td>\n",
              "      <td>f</td>\n",
              "      <td>f</td>\n",
              "      <td>f</td>\n",
              "      <td>f</td>\n",
              "      <td>f</td>\n",
              "      <td>f</td>\n",
              "      <td>f</td>\n",
              "      <td>f</td>\n",
              "      <td>f</td>\n",
              "      <td>f</td>\n",
              "      <td>f</td>\n",
              "      <td>f</td>\n",
              "      <td>f</td>\n",
              "      <td>t</td>\n",
              "      <td>4.1</td>\n",
              "      <td>t</td>\n",
              "      <td>2</td>\n",
              "      <td>t</td>\n",
              "      <td>102</td>\n",
              "      <td>f</td>\n",
              "      <td>?</td>\n",
              "      <td>f</td>\n",
              "      <td>?</td>\n",
              "      <td>f</td>\n",
              "      <td>?</td>\n",
              "      <td>other</td>\n",
              "      <td>negative</td>\n",
              "    </tr>\n",
              "    <tr>\n",
              "      <th>1</th>\n",
              "      <td>46</td>\n",
              "      <td>M</td>\n",
              "      <td>f</td>\n",
              "      <td>f</td>\n",
              "      <td>f</td>\n",
              "      <td>f</td>\n",
              "      <td>f</td>\n",
              "      <td>f</td>\n",
              "      <td>f</td>\n",
              "      <td>f</td>\n",
              "      <td>f</td>\n",
              "      <td>f</td>\n",
              "      <td>f</td>\n",
              "      <td>f</td>\n",
              "      <td>f</td>\n",
              "      <td>f</td>\n",
              "      <td>t</td>\n",
              "      <td>0.98</td>\n",
              "      <td>f</td>\n",
              "      <td>?</td>\n",
              "      <td>t</td>\n",
              "      <td>109</td>\n",
              "      <td>t</td>\n",
              "      <td>0.91</td>\n",
              "      <td>t</td>\n",
              "      <td>120</td>\n",
              "      <td>f</td>\n",
              "      <td>?</td>\n",
              "      <td>other</td>\n",
              "      <td>negative</td>\n",
              "    </tr>\n",
              "    <tr>\n",
              "      <th>2</th>\n",
              "      <td>70</td>\n",
              "      <td>F</td>\n",
              "      <td>t</td>\n",
              "      <td>f</td>\n",
              "      <td>f</td>\n",
              "      <td>f</td>\n",
              "      <td>f</td>\n",
              "      <td>f</td>\n",
              "      <td>f</td>\n",
              "      <td>f</td>\n",
              "      <td>f</td>\n",
              "      <td>f</td>\n",
              "      <td>f</td>\n",
              "      <td>f</td>\n",
              "      <td>f</td>\n",
              "      <td>f</td>\n",
              "      <td>t</td>\n",
              "      <td>0.16</td>\n",
              "      <td>t</td>\n",
              "      <td>1.9</td>\n",
              "      <td>t</td>\n",
              "      <td>175</td>\n",
              "      <td>f</td>\n",
              "      <td>?</td>\n",
              "      <td>f</td>\n",
              "      <td>?</td>\n",
              "      <td>f</td>\n",
              "      <td>?</td>\n",
              "      <td>other</td>\n",
              "      <td>negative</td>\n",
              "    </tr>\n",
              "    <tr>\n",
              "      <th>3</th>\n",
              "      <td>70</td>\n",
              "      <td>F</td>\n",
              "      <td>f</td>\n",
              "      <td>f</td>\n",
              "      <td>f</td>\n",
              "      <td>f</td>\n",
              "      <td>f</td>\n",
              "      <td>f</td>\n",
              "      <td>f</td>\n",
              "      <td>f</td>\n",
              "      <td>f</td>\n",
              "      <td>f</td>\n",
              "      <td>f</td>\n",
              "      <td>f</td>\n",
              "      <td>f</td>\n",
              "      <td>f</td>\n",
              "      <td>t</td>\n",
              "      <td>0.72</td>\n",
              "      <td>t</td>\n",
              "      <td>1.2</td>\n",
              "      <td>t</td>\n",
              "      <td>61</td>\n",
              "      <td>t</td>\n",
              "      <td>0.87</td>\n",
              "      <td>t</td>\n",
              "      <td>70</td>\n",
              "      <td>f</td>\n",
              "      <td>?</td>\n",
              "      <td>SVI</td>\n",
              "      <td>negative</td>\n",
              "    </tr>\n",
              "    <tr>\n",
              "      <th>4</th>\n",
              "      <td>18</td>\n",
              "      <td>F</td>\n",
              "      <td>t</td>\n",
              "      <td>f</td>\n",
              "      <td>f</td>\n",
              "      <td>f</td>\n",
              "      <td>f</td>\n",
              "      <td>f</td>\n",
              "      <td>f</td>\n",
              "      <td>f</td>\n",
              "      <td>f</td>\n",
              "      <td>f</td>\n",
              "      <td>f</td>\n",
              "      <td>f</td>\n",
              "      <td>f</td>\n",
              "      <td>f</td>\n",
              "      <td>t</td>\n",
              "      <td>0.03</td>\n",
              "      <td>f</td>\n",
              "      <td>?</td>\n",
              "      <td>t</td>\n",
              "      <td>183</td>\n",
              "      <td>t</td>\n",
              "      <td>1.3</td>\n",
              "      <td>t</td>\n",
              "      <td>141</td>\n",
              "      <td>f</td>\n",
              "      <td>?</td>\n",
              "      <td>other</td>\n",
              "      <td>negative</td>\n",
              "    </tr>\n",
              "    <tr>\n",
              "      <th>...</th>\n",
              "      <td>...</td>\n",
              "      <td>...</td>\n",
              "      <td>...</td>\n",
              "      <td>...</td>\n",
              "      <td>...</td>\n",
              "      <td>...</td>\n",
              "      <td>...</td>\n",
              "      <td>...</td>\n",
              "      <td>...</td>\n",
              "      <td>...</td>\n",
              "      <td>...</td>\n",
              "      <td>...</td>\n",
              "      <td>...</td>\n",
              "      <td>...</td>\n",
              "      <td>...</td>\n",
              "      <td>...</td>\n",
              "      <td>...</td>\n",
              "      <td>...</td>\n",
              "      <td>...</td>\n",
              "      <td>...</td>\n",
              "      <td>...</td>\n",
              "      <td>...</td>\n",
              "      <td>...</td>\n",
              "      <td>...</td>\n",
              "      <td>...</td>\n",
              "      <td>...</td>\n",
              "      <td>...</td>\n",
              "      <td>...</td>\n",
              "      <td>...</td>\n",
              "      <td>...</td>\n",
              "    </tr>\n",
              "    <tr>\n",
              "      <th>7535</th>\n",
              "      <td>30</td>\n",
              "      <td>F</td>\n",
              "      <td>f</td>\n",
              "      <td>f</td>\n",
              "      <td>f</td>\n",
              "      <td>f</td>\n",
              "      <td>f</td>\n",
              "      <td>f</td>\n",
              "      <td>f</td>\n",
              "      <td>f</td>\n",
              "      <td>f</td>\n",
              "      <td>f</td>\n",
              "      <td>f</td>\n",
              "      <td>t</td>\n",
              "      <td>f</td>\n",
              "      <td>f</td>\n",
              "      <td>f</td>\n",
              "      <td>?</td>\n",
              "      <td>f</td>\n",
              "      <td>?</td>\n",
              "      <td>f</td>\n",
              "      <td>?</td>\n",
              "      <td>f</td>\n",
              "      <td>?</td>\n",
              "      <td>f</td>\n",
              "      <td>?</td>\n",
              "      <td>f</td>\n",
              "      <td>?</td>\n",
              "      <td>other</td>\n",
              "      <td>negative</td>\n",
              "    </tr>\n",
              "    <tr>\n",
              "      <th>7536</th>\n",
              "      <td>68</td>\n",
              "      <td>F</td>\n",
              "      <td>f</td>\n",
              "      <td>f</td>\n",
              "      <td>f</td>\n",
              "      <td>f</td>\n",
              "      <td>f</td>\n",
              "      <td>f</td>\n",
              "      <td>f</td>\n",
              "      <td>f</td>\n",
              "      <td>f</td>\n",
              "      <td>f</td>\n",
              "      <td>f</td>\n",
              "      <td>f</td>\n",
              "      <td>f</td>\n",
              "      <td>f</td>\n",
              "      <td>t</td>\n",
              "      <td>1</td>\n",
              "      <td>t</td>\n",
              "      <td>2.1</td>\n",
              "      <td>t</td>\n",
              "      <td>124</td>\n",
              "      <td>t</td>\n",
              "      <td>1.08</td>\n",
              "      <td>t</td>\n",
              "      <td>114</td>\n",
              "      <td>f</td>\n",
              "      <td>?</td>\n",
              "      <td>SVI</td>\n",
              "      <td>negative</td>\n",
              "    </tr>\n",
              "    <tr>\n",
              "      <th>7537</th>\n",
              "      <td>74</td>\n",
              "      <td>F</td>\n",
              "      <td>f</td>\n",
              "      <td>f</td>\n",
              "      <td>f</td>\n",
              "      <td>f</td>\n",
              "      <td>f</td>\n",
              "      <td>f</td>\n",
              "      <td>f</td>\n",
              "      <td>f</td>\n",
              "      <td>t</td>\n",
              "      <td>f</td>\n",
              "      <td>f</td>\n",
              "      <td>f</td>\n",
              "      <td>f</td>\n",
              "      <td>f</td>\n",
              "      <td>t</td>\n",
              "      <td>5.1</td>\n",
              "      <td>t</td>\n",
              "      <td>1.8</td>\n",
              "      <td>t</td>\n",
              "      <td>112</td>\n",
              "      <td>t</td>\n",
              "      <td>1.07</td>\n",
              "      <td>t</td>\n",
              "      <td>105</td>\n",
              "      <td>f</td>\n",
              "      <td>?</td>\n",
              "      <td>other</td>\n",
              "      <td>negative</td>\n",
              "    </tr>\n",
              "    <tr>\n",
              "      <th>7538</th>\n",
              "      <td>72</td>\n",
              "      <td>M</td>\n",
              "      <td>f</td>\n",
              "      <td>f</td>\n",
              "      <td>f</td>\n",
              "      <td>f</td>\n",
              "      <td>f</td>\n",
              "      <td>f</td>\n",
              "      <td>f</td>\n",
              "      <td>f</td>\n",
              "      <td>f</td>\n",
              "      <td>f</td>\n",
              "      <td>f</td>\n",
              "      <td>f</td>\n",
              "      <td>f</td>\n",
              "      <td>f</td>\n",
              "      <td>t</td>\n",
              "      <td>0.7</td>\n",
              "      <td>t</td>\n",
              "      <td>2</td>\n",
              "      <td>t</td>\n",
              "      <td>82</td>\n",
              "      <td>t</td>\n",
              "      <td>0.94</td>\n",
              "      <td>t</td>\n",
              "      <td>87</td>\n",
              "      <td>f</td>\n",
              "      <td>?</td>\n",
              "      <td>SVI</td>\n",
              "      <td>negative</td>\n",
              "    </tr>\n",
              "    <tr>\n",
              "      <th>7539</th>\n",
              "      <td>64</td>\n",
              "      <td>F</td>\n",
              "      <td>f</td>\n",
              "      <td>f</td>\n",
              "      <td>f</td>\n",
              "      <td>f</td>\n",
              "      <td>f</td>\n",
              "      <td>f</td>\n",
              "      <td>f</td>\n",
              "      <td>f</td>\n",
              "      <td>f</td>\n",
              "      <td>f</td>\n",
              "      <td>f</td>\n",
              "      <td>f</td>\n",
              "      <td>f</td>\n",
              "      <td>f</td>\n",
              "      <td>t</td>\n",
              "      <td>1</td>\n",
              "      <td>t</td>\n",
              "      <td>2.2</td>\n",
              "      <td>t</td>\n",
              "      <td>99</td>\n",
              "      <td>t</td>\n",
              "      <td>1.07</td>\n",
              "      <td>t</td>\n",
              "      <td>92</td>\n",
              "      <td>f</td>\n",
              "      <td>?</td>\n",
              "      <td>other</td>\n",
              "      <td>negative</td>\n",
              "    </tr>\n",
              "  </tbody>\n",
              "</table>\n",
              "<p>7540 rows × 30 columns</p>\n",
              "</div>"
            ],
            "text/plain": [
              "     age sex on_thyroxine  ... TBG referral_source thyroid_class\n",
              "0     23   F            f  ...   ?           other      negative\n",
              "1     46   M            f  ...   ?           other      negative\n",
              "2     70   F            t  ...   ?           other      negative\n",
              "3     70   F            f  ...   ?             SVI      negative\n",
              "4     18   F            t  ...   ?           other      negative\n",
              "...   ..  ..          ...  ...  ..             ...           ...\n",
              "7535  30   F            f  ...   ?           other      negative\n",
              "7536  68   F            f  ...   ?             SVI      negative\n",
              "7537  74   F            f  ...   ?           other      negative\n",
              "7538  72   M            f  ...   ?             SVI      negative\n",
              "7539  64   F            f  ...   ?           other      negative\n",
              "\n",
              "[7540 rows x 30 columns]"
            ]
          },
          "metadata": {
            "tags": []
          },
          "execution_count": 3
        }
      ]
    },
    {
      "cell_type": "code",
      "metadata": {
        "id": "eFmRVn9YKmig",
        "outputId": "87b3ea18-6947-4427-fd40-9f7f89235381",
        "colab": {
          "base_uri": "https://localhost:8080/"
        }
      },
      "source": [
        "thy['thyroid_class'].value_counts()"
      ],
      "execution_count": 4,
      "outputs": [
        {
          "output_type": "execute_result",
          "data": {
            "text/plain": [
              "negative        7193\n",
              "hypothyroid      220\n",
              "hyperthyroid     127\n",
              "Name: thyroid_class, dtype: int64"
            ]
          },
          "metadata": {
            "tags": []
          },
          "execution_count": 4
        }
      ]
    },
    {
      "cell_type": "markdown",
      "metadata": {
        "id": "3IkqRPZcLwDM"
      },
      "source": [
        "# Missing Values"
      ]
    },
    {
      "cell_type": "code",
      "metadata": {
        "id": "DLR1UlYtKmii"
      },
      "source": [
        "for s in thy.columns:\n",
        "    thy[s] = thy[s].apply(lambda x: np.nan if x=='?' else x)"
      ],
      "execution_count": 5,
      "outputs": []
    },
    {
      "cell_type": "code",
      "metadata": {
        "id": "OZDV7HyPKmil",
        "outputId": "d3ea177f-fceb-4e8a-80f7-06d05550eaad",
        "colab": {
          "base_uri": "https://localhost:8080/"
        }
      },
      "source": [
        "thy.isnull().sum()"
      ],
      "execution_count": 6,
      "outputs": [
        {
          "output_type": "execute_result",
          "data": {
            "text/plain": [
              "age                             2\n",
              "sex                           300\n",
              "on_thyroxine                    0\n",
              "query_on_thyroxine              0\n",
              "on_antithyroid_medication       0\n",
              "sick                            0\n",
              "pregnant                        0\n",
              "thyroid_surgery                 0\n",
              "I131_treatment                  0\n",
              "query_hypothyroid               0\n",
              "query_hyperthyroid              0\n",
              "lithium                         0\n",
              "goitre                          0\n",
              "tumor                           0\n",
              "hypopituitary                   0\n",
              "psych                           0\n",
              "TSH_measured                    0\n",
              "TSH                           736\n",
              "T3 measured                     0\n",
              "T3                           1536\n",
              "TT4_measured                    0\n",
              "TT4                           460\n",
              "T4U_measured                    0\n",
              "T4U                           772\n",
              "FTI_measured                    0\n",
              "FTI                           768\n",
              "TBG_measured                    0\n",
              "TBG                          7540\n",
              "referral_source                 0\n",
              "thyroid_class                   0\n",
              "dtype: int64"
            ]
          },
          "metadata": {
            "tags": []
          },
          "execution_count": 6
        }
      ]
    },
    {
      "cell_type": "code",
      "metadata": {
        "id": "zf5QPydkKmin",
        "outputId": "f8472ff7-d38c-45ff-e877-a8320af3f981",
        "colab": {
          "base_uri": "https://localhost:8080/"
        }
      },
      "source": [
        "thy.info()"
      ],
      "execution_count": null,
      "outputs": [
        {
          "output_type": "stream",
          "text": [
            "<class 'pandas.core.frame.DataFrame'>\n",
            "RangeIndex: 7540 entries, 0 to 7539\n",
            "Data columns (total 30 columns):\n",
            " #   Column                     Non-Null Count  Dtype  \n",
            "---  ------                     --------------  -----  \n",
            " 0   age                        7538 non-null   object \n",
            " 1   sex                        7240 non-null   object \n",
            " 2   on_thyroxine               7540 non-null   object \n",
            " 3   query_on_thyroxine         7540 non-null   object \n",
            " 4   on_antithyroid_medication  7540 non-null   object \n",
            " 5   sick                       7540 non-null   object \n",
            " 6   pregnant                   7540 non-null   object \n",
            " 7   thyroid_surgery            7540 non-null   object \n",
            " 8   I131_treatment             7540 non-null   object \n",
            " 9   query_hypothyroid          7540 non-null   object \n",
            " 10  query_hyperthyroid         7540 non-null   object \n",
            " 11  lithium                    7540 non-null   object \n",
            " 12  goitre                     7540 non-null   object \n",
            " 13  tumor                      7540 non-null   object \n",
            " 14  hypopituitary              7540 non-null   object \n",
            " 15  psych                      7540 non-null   object \n",
            " 16  TSH_measured               7540 non-null   object \n",
            " 17  TSH                        6804 non-null   object \n",
            " 18  T3 measured                7540 non-null   object \n",
            " 19  T3                         6004 non-null   object \n",
            " 20  TT4_measured               7540 non-null   object \n",
            " 21  TT4                        7080 non-null   object \n",
            " 22  T4U_measured               7540 non-null   object \n",
            " 23  T4U                        6768 non-null   object \n",
            " 24  FTI_measured               7540 non-null   object \n",
            " 25  FTI                        6772 non-null   object \n",
            " 26  TBG_measured               7540 non-null   object \n",
            " 27  TBG                        0 non-null      float64\n",
            " 28  referral_source            7540 non-null   object \n",
            " 29  thyroid_class              7540 non-null   object \n",
            "dtypes: float64(1), object(29)\n",
            "memory usage: 1.7+ MB\n"
          ],
          "name": "stdout"
        }
      ]
    },
    {
      "cell_type": "code",
      "metadata": {
        "id": "UcagSwZiKmiq"
      },
      "source": [
        "thy.drop('TBG',axis=1,inplace=True)#TBG is dropped"
      ],
      "execution_count": null,
      "outputs": []
    },
    {
      "cell_type": "markdown",
      "metadata": {
        "id": "K8H5F8b3MCIM"
      },
      "source": [
        "# Missing values in Age column"
      ]
    },
    {
      "cell_type": "code",
      "metadata": {
        "id": "53YE61M0Kmit",
        "outputId": "efdb1fe9-a367-4680-d2fe-b6860550d394",
        "colab": {
          "base_uri": "https://localhost:8080/",
          "height": 143
        }
      },
      "source": [
        "thy[thy['age'].isnull()]"
      ],
      "execution_count": null,
      "outputs": [
        {
          "output_type": "execute_result",
          "data": {
            "text/html": [
              "<div>\n",
              "<style scoped>\n",
              "    .dataframe tbody tr th:only-of-type {\n",
              "        vertical-align: middle;\n",
              "    }\n",
              "\n",
              "    .dataframe tbody tr th {\n",
              "        vertical-align: top;\n",
              "    }\n",
              "\n",
              "    .dataframe thead th {\n",
              "        text-align: right;\n",
              "    }\n",
              "</style>\n",
              "<table border=\"1\" class=\"dataframe\">\n",
              "  <thead>\n",
              "    <tr style=\"text-align: right;\">\n",
              "      <th></th>\n",
              "      <th>age</th>\n",
              "      <th>sex</th>\n",
              "      <th>on_thyroxine</th>\n",
              "      <th>query_on_thyroxine</th>\n",
              "      <th>on_antithyroid_medication</th>\n",
              "      <th>sick</th>\n",
              "      <th>pregnant</th>\n",
              "      <th>thyroid_surgery</th>\n",
              "      <th>I131_treatment</th>\n",
              "      <th>query_hypothyroid</th>\n",
              "      <th>query_hyperthyroid</th>\n",
              "      <th>lithium</th>\n",
              "      <th>goitre</th>\n",
              "      <th>tumor</th>\n",
              "      <th>hypopituitary</th>\n",
              "      <th>psych</th>\n",
              "      <th>TSH_measured</th>\n",
              "      <th>TSH</th>\n",
              "      <th>T3 measured</th>\n",
              "      <th>T3</th>\n",
              "      <th>TT4_measured</th>\n",
              "      <th>TT4</th>\n",
              "      <th>T4U_measured</th>\n",
              "      <th>T4U</th>\n",
              "      <th>FTI_measured</th>\n",
              "      <th>FTI</th>\n",
              "      <th>TBG_measured</th>\n",
              "      <th>referral_source</th>\n",
              "      <th>thyroid_class</th>\n",
              "    </tr>\n",
              "  </thead>\n",
              "  <tbody>\n",
              "    <tr>\n",
              "      <th>1984</th>\n",
              "      <td>NaN</td>\n",
              "      <td>F</td>\n",
              "      <td>t</td>\n",
              "      <td>f</td>\n",
              "      <td>f</td>\n",
              "      <td>f</td>\n",
              "      <td>f</td>\n",
              "      <td>f</td>\n",
              "      <td>t</td>\n",
              "      <td>f</td>\n",
              "      <td>f</td>\n",
              "      <td>f</td>\n",
              "      <td>f</td>\n",
              "      <td>f</td>\n",
              "      <td>f</td>\n",
              "      <td>f</td>\n",
              "      <td>t</td>\n",
              "      <td>0.6</td>\n",
              "      <td>t</td>\n",
              "      <td>1.5</td>\n",
              "      <td>t</td>\n",
              "      <td>120</td>\n",
              "      <td>t</td>\n",
              "      <td>0.82</td>\n",
              "      <td>t</td>\n",
              "      <td>146</td>\n",
              "      <td>f</td>\n",
              "      <td>other</td>\n",
              "      <td>negative</td>\n",
              "    </tr>\n",
              "    <tr>\n",
              "      <th>4783</th>\n",
              "      <td>NaN</td>\n",
              "      <td>F</td>\n",
              "      <td>t</td>\n",
              "      <td>f</td>\n",
              "      <td>f</td>\n",
              "      <td>f</td>\n",
              "      <td>f</td>\n",
              "      <td>f</td>\n",
              "      <td>t</td>\n",
              "      <td>f</td>\n",
              "      <td>f</td>\n",
              "      <td>f</td>\n",
              "      <td>f</td>\n",
              "      <td>f</td>\n",
              "      <td>f</td>\n",
              "      <td>f</td>\n",
              "      <td>t</td>\n",
              "      <td>0.6</td>\n",
              "      <td>t</td>\n",
              "      <td>1.5</td>\n",
              "      <td>t</td>\n",
              "      <td>120</td>\n",
              "      <td>t</td>\n",
              "      <td>0.82</td>\n",
              "      <td>t</td>\n",
              "      <td>146</td>\n",
              "      <td>f</td>\n",
              "      <td>other</td>\n",
              "      <td>negative</td>\n",
              "    </tr>\n",
              "  </tbody>\n",
              "</table>\n",
              "</div>"
            ],
            "text/plain": [
              "      age sex on_thyroxine  ... TBG_measured referral_source thyroid_class\n",
              "1984  NaN   F            t  ...            f           other      negative\n",
              "4783  NaN   F            t  ...            f           other      negative\n",
              "\n",
              "[2 rows x 29 columns]"
            ]
          },
          "metadata": {
            "tags": []
          },
          "execution_count": 22
        }
      ]
    },
    {
      "cell_type": "code",
      "metadata": {
        "id": "ZOVSz5JwKmiw"
      },
      "source": [
        "thy.drop([1984,4783],inplace=True) #missing age values are dropped"
      ],
      "execution_count": null,
      "outputs": []
    },
    {
      "cell_type": "code",
      "metadata": {
        "id": "wIMfVUC_Kmiy",
        "outputId": "ce39b70c-6064-4101-daa3-ac432c279a21",
        "colab": {
          "base_uri": "https://localhost:8080/"
        }
      },
      "source": [
        "thy.columns"
      ],
      "execution_count": null,
      "outputs": [
        {
          "output_type": "execute_result",
          "data": {
            "text/plain": [
              "Index(['age', 'sex', 'on_thyroxine', 'query_on_thyroxine',\n",
              "       'on_antithyroid_medication', 'sick', 'pregnant', 'thyroid_surgery',\n",
              "       'I131_treatment', 'query_hypothyroid', 'query_hyperthyroid', 'lithium',\n",
              "       'goitre', 'tumor', 'hypopituitary', 'psych', 'TSH_measured', 'TSH',\n",
              "       'T3 measured', 'T3', 'TT4_measured', 'TT4', 'T4U_measured', 'T4U',\n",
              "       'FTI_measured', 'FTI', 'TBG_measured', 'referral_source',\n",
              "       'thyroid_class'],\n",
              "      dtype='object')"
            ]
          },
          "metadata": {
            "tags": []
          },
          "execution_count": 25
        }
      ]
    },
    {
      "cell_type": "code",
      "metadata": {
        "id": "9ts2gHLDKmi2",
        "outputId": "4428d419-f44c-4c4a-c3cf-d3501bfbecf1",
        "colab": {
          "base_uri": "https://localhost:8080/"
        }
      },
      "source": [
        "thy['age'].isnull().sum()"
      ],
      "execution_count": null,
      "outputs": [
        {
          "output_type": "execute_result",
          "data": {
            "text/plain": [
              "0"
            ]
          },
          "metadata": {
            "tags": []
          },
          "execution_count": 26
        }
      ]
    },
    {
      "cell_type": "code",
      "metadata": {
        "id": "zZSBlCAfKmi5"
      },
      "source": [
        "thy['age'] = thy['age'].apply(int)"
      ],
      "execution_count": null,
      "outputs": []
    },
    {
      "cell_type": "markdown",
      "metadata": {
        "id": "VhuPb6aoURyZ"
      },
      "source": [
        "# Outliers in age column"
      ]
    },
    {
      "cell_type": "code",
      "metadata": {
        "id": "lnNCG10MUSqc",
        "outputId": "608db31d-5860-4979-c7ac-8d37e3c365e5",
        "colab": {
          "base_uri": "https://localhost:8080/",
          "height": 143
        }
      },
      "source": [
        "thy[thy['age']==thy['age'].max()]"
      ],
      "execution_count": null,
      "outputs": [
        {
          "output_type": "execute_result",
          "data": {
            "text/html": [
              "<div>\n",
              "<style scoped>\n",
              "    .dataframe tbody tr th:only-of-type {\n",
              "        vertical-align: middle;\n",
              "    }\n",
              "\n",
              "    .dataframe tbody tr th {\n",
              "        vertical-align: top;\n",
              "    }\n",
              "\n",
              "    .dataframe thead th {\n",
              "        text-align: right;\n",
              "    }\n",
              "</style>\n",
              "<table border=\"1\" class=\"dataframe\">\n",
              "  <thead>\n",
              "    <tr style=\"text-align: right;\">\n",
              "      <th></th>\n",
              "      <th>age</th>\n",
              "      <th>sex</th>\n",
              "      <th>on_thyroxine</th>\n",
              "      <th>query_on_thyroxine</th>\n",
              "      <th>on_antithyroid_medication</th>\n",
              "      <th>sick</th>\n",
              "      <th>pregnant</th>\n",
              "      <th>thyroid_surgery</th>\n",
              "      <th>I131_treatment</th>\n",
              "      <th>query_hypothyroid</th>\n",
              "      <th>query_hyperthyroid</th>\n",
              "      <th>lithium</th>\n",
              "      <th>goitre</th>\n",
              "      <th>tumor</th>\n",
              "      <th>hypopituitary</th>\n",
              "      <th>psych</th>\n",
              "      <th>TSH_measured</th>\n",
              "      <th>TSH</th>\n",
              "      <th>T3 measured</th>\n",
              "      <th>T3</th>\n",
              "      <th>TT4_measured</th>\n",
              "      <th>TT4</th>\n",
              "      <th>T4U_measured</th>\n",
              "      <th>T4U</th>\n",
              "      <th>FTI_measured</th>\n",
              "      <th>FTI</th>\n",
              "      <th>TBG_measured</th>\n",
              "      <th>referral_source</th>\n",
              "      <th>thyroid_class</th>\n",
              "    </tr>\n",
              "  </thead>\n",
              "  <tbody>\n",
              "    <tr>\n",
              "      <th>1363</th>\n",
              "      <td>455</td>\n",
              "      <td>F</td>\n",
              "      <td>f</td>\n",
              "      <td>f</td>\n",
              "      <td>f</td>\n",
              "      <td>f</td>\n",
              "      <td>f</td>\n",
              "      <td>f</td>\n",
              "      <td>f</td>\n",
              "      <td>f</td>\n",
              "      <td>f</td>\n",
              "      <td>f</td>\n",
              "      <td>f</td>\n",
              "      <td>f</td>\n",
              "      <td>f</td>\n",
              "      <td>f</td>\n",
              "      <td>t</td>\n",
              "      <td>1.1</td>\n",
              "      <td>t</td>\n",
              "      <td>2</td>\n",
              "      <td>t</td>\n",
              "      <td>118</td>\n",
              "      <td>t</td>\n",
              "      <td>1.13</td>\n",
              "      <td>t</td>\n",
              "      <td>104</td>\n",
              "      <td>f</td>\n",
              "      <td>SVI</td>\n",
              "      <td>negative</td>\n",
              "    </tr>\n",
              "    <tr>\n",
              "      <th>4162</th>\n",
              "      <td>455</td>\n",
              "      <td>F</td>\n",
              "      <td>f</td>\n",
              "      <td>f</td>\n",
              "      <td>f</td>\n",
              "      <td>f</td>\n",
              "      <td>f</td>\n",
              "      <td>f</td>\n",
              "      <td>f</td>\n",
              "      <td>f</td>\n",
              "      <td>f</td>\n",
              "      <td>f</td>\n",
              "      <td>f</td>\n",
              "      <td>f</td>\n",
              "      <td>f</td>\n",
              "      <td>f</td>\n",
              "      <td>t</td>\n",
              "      <td>1.1</td>\n",
              "      <td>t</td>\n",
              "      <td>2</td>\n",
              "      <td>t</td>\n",
              "      <td>118</td>\n",
              "      <td>t</td>\n",
              "      <td>1.13</td>\n",
              "      <td>t</td>\n",
              "      <td>104</td>\n",
              "      <td>f</td>\n",
              "      <td>SVI</td>\n",
              "      <td>negative</td>\n",
              "    </tr>\n",
              "  </tbody>\n",
              "</table>\n",
              "</div>"
            ],
            "text/plain": [
              "      age sex on_thyroxine  ... TBG_measured referral_source thyroid_class\n",
              "1363  455   F            f  ...            f             SVI      negative\n",
              "4162  455   F            f  ...            f             SVI      negative\n",
              "\n",
              "[2 rows x 29 columns]"
            ]
          },
          "metadata": {
            "tags": []
          },
          "execution_count": 30
        }
      ]
    },
    {
      "cell_type": "code",
      "metadata": {
        "id": "9wng6fNaUswQ"
      },
      "source": [
        "thy.drop([1363,4162],axis=0,inplace=True) #outlier is dropped"
      ],
      "execution_count": null,
      "outputs": []
    },
    {
      "cell_type": "code",
      "metadata": {
        "id": "ktcAj2CjU5QE",
        "outputId": "19939b40-4108-433e-9d64-b76e733aeda4",
        "colab": {
          "base_uri": "https://localhost:8080/",
          "height": 201
        }
      },
      "source": [
        "thy[thy['age']==thy['age'].max()]"
      ],
      "execution_count": null,
      "outputs": [
        {
          "output_type": "execute_result",
          "data": {
            "text/html": [
              "<div>\n",
              "<style scoped>\n",
              "    .dataframe tbody tr th:only-of-type {\n",
              "        vertical-align: middle;\n",
              "    }\n",
              "\n",
              "    .dataframe tbody tr th {\n",
              "        vertical-align: top;\n",
              "    }\n",
              "\n",
              "    .dataframe thead th {\n",
              "        text-align: right;\n",
              "    }\n",
              "</style>\n",
              "<table border=\"1\" class=\"dataframe\">\n",
              "  <thead>\n",
              "    <tr style=\"text-align: right;\">\n",
              "      <th></th>\n",
              "      <th>age</th>\n",
              "      <th>sex</th>\n",
              "      <th>on_thyroxine</th>\n",
              "      <th>query_on_thyroxine</th>\n",
              "      <th>on_antithyroid_medication</th>\n",
              "      <th>sick</th>\n",
              "      <th>pregnant</th>\n",
              "      <th>thyroid_surgery</th>\n",
              "      <th>I131_treatment</th>\n",
              "      <th>query_hypothyroid</th>\n",
              "      <th>query_hyperthyroid</th>\n",
              "      <th>lithium</th>\n",
              "      <th>goitre</th>\n",
              "      <th>tumor</th>\n",
              "      <th>hypopituitary</th>\n",
              "      <th>psych</th>\n",
              "      <th>TSH_measured</th>\n",
              "      <th>TSH</th>\n",
              "      <th>T3 measured</th>\n",
              "      <th>T3</th>\n",
              "      <th>TT4_measured</th>\n",
              "      <th>TT4</th>\n",
              "      <th>T4U_measured</th>\n",
              "      <th>T4U</th>\n",
              "      <th>FTI_measured</th>\n",
              "      <th>FTI</th>\n",
              "      <th>TBG_measured</th>\n",
              "      <th>referral_source</th>\n",
              "      <th>thyroid_class</th>\n",
              "    </tr>\n",
              "  </thead>\n",
              "  <tbody>\n",
              "    <tr>\n",
              "      <th>1128</th>\n",
              "      <td>94</td>\n",
              "      <td>F</td>\n",
              "      <td>f</td>\n",
              "      <td>f</td>\n",
              "      <td>f</td>\n",
              "      <td>f</td>\n",
              "      <td>f</td>\n",
              "      <td>f</td>\n",
              "      <td>f</td>\n",
              "      <td>f</td>\n",
              "      <td>f</td>\n",
              "      <td>f</td>\n",
              "      <td>f</td>\n",
              "      <td>f</td>\n",
              "      <td>f</td>\n",
              "      <td>f</td>\n",
              "      <td>t</td>\n",
              "      <td>3.9</td>\n",
              "      <td>f</td>\n",
              "      <td>NaN</td>\n",
              "      <td>t</td>\n",
              "      <td>157</td>\n",
              "      <td>t</td>\n",
              "      <td>1.02</td>\n",
              "      <td>t</td>\n",
              "      <td>154</td>\n",
              "      <td>f</td>\n",
              "      <td>SVI</td>\n",
              "      <td>negative</td>\n",
              "    </tr>\n",
              "    <tr>\n",
              "      <th>2672</th>\n",
              "      <td>94</td>\n",
              "      <td>M</td>\n",
              "      <td>f</td>\n",
              "      <td>f</td>\n",
              "      <td>f</td>\n",
              "      <td>f</td>\n",
              "      <td>f</td>\n",
              "      <td>f</td>\n",
              "      <td>f</td>\n",
              "      <td>f</td>\n",
              "      <td>f</td>\n",
              "      <td>f</td>\n",
              "      <td>f</td>\n",
              "      <td>f</td>\n",
              "      <td>f</td>\n",
              "      <td>f</td>\n",
              "      <td>t</td>\n",
              "      <td>1.9</td>\n",
              "      <td>t</td>\n",
              "      <td>1.3</td>\n",
              "      <td>t</td>\n",
              "      <td>119</td>\n",
              "      <td>t</td>\n",
              "      <td>1.04</td>\n",
              "      <td>t</td>\n",
              "      <td>114</td>\n",
              "      <td>f</td>\n",
              "      <td>SVI</td>\n",
              "      <td>negative</td>\n",
              "    </tr>\n",
              "    <tr>\n",
              "      <th>3927</th>\n",
              "      <td>94</td>\n",
              "      <td>F</td>\n",
              "      <td>f</td>\n",
              "      <td>f</td>\n",
              "      <td>f</td>\n",
              "      <td>f</td>\n",
              "      <td>f</td>\n",
              "      <td>f</td>\n",
              "      <td>f</td>\n",
              "      <td>f</td>\n",
              "      <td>f</td>\n",
              "      <td>f</td>\n",
              "      <td>f</td>\n",
              "      <td>f</td>\n",
              "      <td>f</td>\n",
              "      <td>f</td>\n",
              "      <td>t</td>\n",
              "      <td>3.9</td>\n",
              "      <td>f</td>\n",
              "      <td>NaN</td>\n",
              "      <td>t</td>\n",
              "      <td>157</td>\n",
              "      <td>t</td>\n",
              "      <td>1.02</td>\n",
              "      <td>t</td>\n",
              "      <td>154</td>\n",
              "      <td>f</td>\n",
              "      <td>SVI</td>\n",
              "      <td>negative</td>\n",
              "    </tr>\n",
              "    <tr>\n",
              "      <th>5471</th>\n",
              "      <td>94</td>\n",
              "      <td>M</td>\n",
              "      <td>f</td>\n",
              "      <td>f</td>\n",
              "      <td>f</td>\n",
              "      <td>f</td>\n",
              "      <td>f</td>\n",
              "      <td>f</td>\n",
              "      <td>f</td>\n",
              "      <td>f</td>\n",
              "      <td>f</td>\n",
              "      <td>f</td>\n",
              "      <td>f</td>\n",
              "      <td>f</td>\n",
              "      <td>f</td>\n",
              "      <td>f</td>\n",
              "      <td>t</td>\n",
              "      <td>1.9</td>\n",
              "      <td>t</td>\n",
              "      <td>1.3</td>\n",
              "      <td>t</td>\n",
              "      <td>119</td>\n",
              "      <td>t</td>\n",
              "      <td>1.04</td>\n",
              "      <td>t</td>\n",
              "      <td>114</td>\n",
              "      <td>f</td>\n",
              "      <td>SVI</td>\n",
              "      <td>negative</td>\n",
              "    </tr>\n",
              "  </tbody>\n",
              "</table>\n",
              "</div>"
            ],
            "text/plain": [
              "      age sex on_thyroxine  ... TBG_measured referral_source thyroid_class\n",
              "1128   94   F            f  ...            f             SVI      negative\n",
              "2672   94   M            f  ...            f             SVI      negative\n",
              "3927   94   F            f  ...            f             SVI      negative\n",
              "5471   94   M            f  ...            f             SVI      negative\n",
              "\n",
              "[4 rows x 29 columns]"
            ]
          },
          "metadata": {
            "tags": []
          },
          "execution_count": 32
        }
      ]
    },
    {
      "cell_type": "markdown",
      "metadata": {
        "id": "5MfO_jZJQzf6"
      },
      "source": [
        "# For Sex column"
      ]
    },
    {
      "cell_type": "code",
      "metadata": {
        "id": "8uzt36iSKmi-",
        "outputId": "6a8b698b-93d5-444e-9a76-364fc9ca98ae"
      },
      "source": [
        "sns.countplot(x='sex',data=thy,hue='thyroid_class')"
      ],
      "execution_count": null,
      "outputs": [
        {
          "output_type": "execute_result",
          "data": {
            "text/plain": [
              "<matplotlib.axes._subplots.AxesSubplot at 0x22a25eeb448>"
            ]
          },
          "metadata": {
            "tags": []
          },
          "execution_count": 497
        },
        {
          "output_type": "display_data",
          "data": {
            "image/png": "[encoded data removed]",
            "text/plain": [
              "<Figure size 432x288 with 1 Axes>"
            ]
          },
          "metadata": {
            "tags": [],
            "needs_background": "light"
          }
        }
      ]
    },
    {
      "cell_type": "code",
      "metadata": {
        "id": "Q6tDj0z5KmjC"
      },
      "source": [
        "thy['sex'] = thy['sex'].fillna(thy['sex'].mode()[0]) "
      ],
      "execution_count": null,
      "outputs": []
    },
    {
      "cell_type": "code",
      "metadata": {
        "id": "f2139VEvKmjH",
        "outputId": "f7bc8035-fb89-485d-8bd2-3133d08ef40e"
      },
      "source": [
        "sns.countplot(x='sex',data=thy[thy['thyroid_class']!='negative'],hue='thyroid_class')"
      ],
      "execution_count": null,
      "outputs": [
        {
          "output_type": "execute_result",
          "data": {
            "text/plain": [
              "<matplotlib.axes._subplots.AxesSubplot at 0x22a25eb3788>"
            ]
          },
          "metadata": {
            "tags": []
          },
          "execution_count": 500
        },
        {
          "output_type": "display_data",
          "data": {
            "image/png": "[encoded data removed]",
            "text/plain": [
              "<Figure size 432x288 with 1 Axes>"
            ]
          },
          "metadata": {
            "tags": [],
            "needs_background": "light"
          }
        }
      ]
    },
    {
      "cell_type": "markdown",
      "metadata": {
        "id": "4zW5mCahReZg"
      },
      "source": [
        "# Missing values TSH column"
      ]
    },
    {
      "cell_type": "code",
      "metadata": {
        "id": "gMIWG_VgKmjJ",
        "outputId": "220bb5a4-712a-409d-cdd6-291d3da8129a"
      },
      "source": [
        "thy['TSH'].median()"
      ],
      "execution_count": null,
      "outputs": [
        {
          "output_type": "execute_result",
          "data": {
            "text/plain": [
              "1.4"
            ]
          },
          "metadata": {
            "tags": []
          },
          "execution_count": 501
        }
      ]
    },
    {
      "cell_type": "code",
      "metadata": {
        "id": "AHy-arxEKmjL"
      },
      "source": [
        "thy['TSH'] = thy['TSH'].fillna(thy['TSH'].median())"
      ],
      "execution_count": null,
      "outputs": []
    },
    {
      "cell_type": "code",
      "metadata": {
        "id": "zAw4UaW2KmjN",
        "outputId": "94204e33-14f2-4208-cfd3-b1350a743305"
      },
      "source": [
        "thy['TSH'].isnull().sum()"
      ],
      "execution_count": null,
      "outputs": [
        {
          "output_type": "execute_result",
          "data": {
            "text/plain": [
              "0"
            ]
          },
          "metadata": {
            "tags": []
          },
          "execution_count": 503
        }
      ]
    },
    {
      "cell_type": "code",
      "metadata": {
        "id": "vH6-b5szKmjP"
      },
      "source": [
        "thy['TSH'] = thy['TSH'].apply(float)"
      ],
      "execution_count": null,
      "outputs": []
    },
    {
      "cell_type": "markdown",
      "metadata": {
        "id": "KVTCaODqRqtW"
      },
      "source": [
        "# Outliers in TSH column"
      ]
    },
    {
      "cell_type": "code",
      "metadata": {
        "id": "KxqzMmHUKmjR",
        "outputId": "a4b696a9-88f7-4ff9-ca5a-4ffd82ab1dbe"
      },
      "source": [
        "plt.boxplot(thy['TSH'],vert=False)"
      ],
      "execution_count": null,
      "outputs": [
        {
          "output_type": "execute_result",
          "data": {
            "text/plain": [
              "{'whiskers': [<matplotlib.lines.Line2D at 0x22a25c7ab08>,\n",
              "  <matplotlib.lines.Line2D at 0x22a25c7ac48>],\n",
              " 'caps': [<matplotlib.lines.Line2D at 0x22a25ef3908>,\n",
              "  <matplotlib.lines.Line2D at 0x22a25ef3a48>],\n",
              " 'boxes': [<matplotlib.lines.Line2D at 0x22a25c7a288>],\n",
              " 'medians': [<matplotlib.lines.Line2D at 0x22a25ef8788>],\n",
              " 'fliers': [<matplotlib.lines.Line2D at 0x22a25ef8e88>],\n",
              " 'means': []}"
            ]
          },
          "metadata": {
            "tags": []
          },
          "execution_count": 505
        },
        {
          "output_type": "display_data",
          "data": {
            "image/png": "[encoded data removed]",
            "text/plain": [
              "<Figure size 432x288 with 1 Axes>"
            ]
          },
          "metadata": {
            "tags": [],
            "needs_background": "light"
          }
        }
      ]
    },
    {
      "cell_type": "code",
      "metadata": {
        "id": "tCIhm-nzKmjU",
        "outputId": "c892f80c-6cc6-450e-b8a4-a7d90ab3c5d3"
      },
      "source": [
        "thy['TSH']"
      ],
      "execution_count": null,
      "outputs": [
        {
          "output_type": "execute_result",
          "data": {
            "text/plain": [
              "0       4.10\n",
              "1       0.98\n",
              "2       0.16\n",
              "3       0.72\n",
              "4       0.03\n",
              "        ... \n",
              "7535    1.40\n",
              "7536    1.00\n",
              "7537    5.10\n",
              "7538    0.70\n",
              "7539    1.00\n",
              "Name: TSH, Length: 7540, dtype: float64"
            ]
          },
          "metadata": {
            "tags": []
          },
          "execution_count": 506
        }
      ]
    },
    {
      "cell_type": "code",
      "metadata": {
        "id": "g39IpzrWKmjX",
        "outputId": "d5fb8bc5-0e51-4eb5-c666-2a417852e483"
      },
      "source": [
        "Q1_tsh = thy['TSH'].quantile(0.25)\n",
        "Q3_tsh = thy['TSH'].quantile(0.75)\n",
        "IQR_tsh = Q3_tsh - Q1_tsh\n",
        "print(IQR_tsh)"
      ],
      "execution_count": null,
      "outputs": [
        {
          "output_type": "stream",
          "text": [
            "1.9\n"
          ],
          "name": "stdout"
        }
      ]
    },
    {
      "cell_type": "code",
      "metadata": {
        "id": "nm2wdflgKmjZ"
      },
      "source": [
        "thy1 = thy.copy()"
      ],
      "execution_count": null,
      "outputs": []
    },
    {
      "cell_type": "markdown",
      "metadata": {
        "id": "If1puStlSQ8U"
      },
      "source": [
        "# Dropping outliers of TSH"
      ]
    },
    {
      "cell_type": "code",
      "metadata": {
        "id": "2ECa3tlFKmjb"
      },
      "source": [
        "df = thy[(thy['TSH'] < (Q1_tsh - 1.5 * IQR_tsh)) | (thy['TSH'] > (Q3_tsh + 1.5 * IQR_tsh))]"
      ],
      "execution_count": null,
      "outputs": []
    },
    {
      "cell_type": "code",
      "metadata": {
        "id": "KOh-kCL8Kmjd"
      },
      "source": [
        "drop_index = list(df[df['thyroid_class']=='negative'].index)"
      ],
      "execution_count": null,
      "outputs": []
    },
    {
      "cell_type": "code",
      "metadata": {
        "id": "Dl8jiyg5Kmjf"
      },
      "source": [
        "thy.drop(drop_index,axis=0,inplace=True)"
      ],
      "execution_count": null,
      "outputs": []
    },
    {
      "cell_type": "code",
      "metadata": {
        "id": "xijQ0qWnKmjh",
        "outputId": "0f4b9379-4451-4bd7-89a5-7a8ebe1133ac"
      },
      "source": [
        "plt.boxplot(thy['TSH'])"
      ],
      "execution_count": null,
      "outputs": [
        {
          "output_type": "execute_result",
          "data": {
            "text/plain": [
              "{'whiskers': [<matplotlib.lines.Line2D at 0x22a25f5bb48>,\n",
              "  <matplotlib.lines.Line2D at 0x22a25f5f908>],\n",
              " 'caps': [<matplotlib.lines.Line2D at 0x22a25f5fa48>,\n",
              "  <matplotlib.lines.Line2D at 0x22a25f64748>],\n",
              " 'boxes': [<matplotlib.lines.Line2D at 0x22a25f5b988>],\n",
              " 'medians': [<matplotlib.lines.Line2D at 0x22a25f64e88>],\n",
              " 'fliers': [<matplotlib.lines.Line2D at 0x22a25f64fc8>],\n",
              " 'means': []}"
            ]
          },
          "metadata": {
            "tags": []
          },
          "execution_count": 512
        },
        {
          "output_type": "display_data",
          "data": {
            "image/png": "[encoded data removed]",
            "text/plain": [
              "<Figure size 432x288 with 1 Axes>"
            ]
          },
          "metadata": {
            "tags": [],
            "needs_background": "light"
          }
        }
      ]
    },
    {
      "cell_type": "code",
      "metadata": {
        "id": "3FI5_8RHKmjk",
        "outputId": "5e161cd0-8bd2-430a-d8b0-5cf2fb2a0c14"
      },
      "source": [
        "plt.boxplot(thy[thy['TSH']<10]['TSH'])"
      ],
      "execution_count": null,
      "outputs": [
        {
          "output_type": "execute_result",
          "data": {
            "text/plain": [
              "{'whiskers': [<matplotlib.lines.Line2D at 0x22a26ea0f48>,\n",
              "  <matplotlib.lines.Line2D at 0x22a26ea4d08>],\n",
              " 'caps': [<matplotlib.lines.Line2D at 0x22a26ea4e48>,\n",
              "  <matplotlib.lines.Line2D at 0x22a26ea7b48>],\n",
              " 'boxes': [<matplotlib.lines.Line2D at 0x22a26ea0d88>],\n",
              " 'medians': [<matplotlib.lines.Line2D at 0x22a26ea7c88>],\n",
              " 'fliers': [<matplotlib.lines.Line2D at 0x22a26eae9c8>],\n",
              " 'means': []}"
            ]
          },
          "metadata": {
            "tags": []
          },
          "execution_count": 513
        },
        {
          "output_type": "display_data",
          "data": {
            "image/png": "[encoded data removed]",
            "text/plain": [
              "<Figure size 432x288 with 1 Axes>"
            ]
          },
          "metadata": {
            "tags": [],
            "needs_background": "light"
          }
        }
      ]
    },
    {
      "cell_type": "markdown",
      "metadata": {
        "id": "_i854n8hR4Jl"
      },
      "source": [
        "# Missing values in T3 column"
      ]
    },
    {
      "cell_type": "code",
      "metadata": {
        "id": "hYbErFqhKmjm"
      },
      "source": [
        "thy['T3']=thy['T3'].fillna(thy['T3'].median())"
      ],
      "execution_count": 18,
      "outputs": []
    },
    {
      "cell_type": "code",
      "metadata": {
        "id": "BLLm3_hNKmjo"
      },
      "source": [
        "thy['T3']=thy['T3'].apply(float)"
      ],
      "execution_count": 19,
      "outputs": []
    },
    {
      "cell_type": "markdown",
      "metadata": {
        "id": "THzs4P_IR_KO"
      },
      "source": [
        "# Outliers in T3 column"
      ]
    },
    {
      "cell_type": "code",
      "metadata": {
        "id": "rbYwVhzGKmjq",
        "outputId": "28a176be-184f-4517-abf0-3c951d5bc39f",
        "colab": {
          "base_uri": "https://localhost:8080/",
          "height": 407
        }
      },
      "source": [
        "plt.boxplot(thy['T3'])"
      ],
      "execution_count": 20,
      "outputs": [
        {
          "output_type": "execute_result",
          "data": {
            "text/plain": [
              "{'boxes': [<matplotlib.lines.Line2D at 0x7fae6d5730b8>],\n",
              " 'caps': [<matplotlib.lines.Line2D at 0x7fae6d573ac8>,\n",
              "  <matplotlib.lines.Line2D at 0x7fae6d573e48>],\n",
              " 'fliers': [<matplotlib.lines.Line2D at 0x7fae6d57b588>],\n",
              " 'means': [],\n",
              " 'medians': [<matplotlib.lines.Line2D at 0x7fae6d57b208>],\n",
              " 'whiskers': [<matplotlib.lines.Line2D at 0x7fae6d5733c8>,\n",
              "  <matplotlib.lines.Line2D at 0x7fae6d573748>]}"
            ]
          },
          "metadata": {
            "tags": []
          },
          "execution_count": 20
        },
        {
          "output_type": "display_data",
          "data": {
            "image/png": "[encoded data removed]",
            "text/plain": [
              "<Figure size 432x288 with 1 Axes>"
            ]
          },
          "metadata": {
            "tags": [],
            "needs_background": "light"
          }
        }
      ]
    },
    {
      "cell_type": "code",
      "metadata": {
        "id": "-teC0JQuFotV",
        "outputId": "8d4bc9aa-98bc-4c33-e7fc-2b2ea5e6077e",
        "colab": {
          "base_uri": "https://localhost:8080/"
        }
      },
      "source": [
        "Q1_t3 = thy['T3'].quantile(0.25)\n",
        "Q3_t3 = thy['T3'].quantile(0.75)\n",
        "IQR_t3 = Q3_t3 - Q1_t3\n",
        "print(IQR_t3)"
      ],
      "execution_count": 21,
      "outputs": [
        {
          "output_type": "stream",
          "text": [
            "0.5000000000000002\n"
          ],
          "name": "stdout"
        }
      ]
    },
    {
      "cell_type": "code",
      "metadata": {
        "id": "SWId_WttHpYo"
      },
      "source": [
        "np.array(thy[(thy['T3'] < (Q1_t3 - 1.5 * IQR_t3)) | (thy['T3'] > (Q3_t3 + 1.5 * IQR_t3))]['T3'])"
      ],
      "execution_count": null,
      "outputs": []
    },
    {
      "cell_type": "markdown",
      "metadata": {
        "id": "KGX8McD-TANA"
      },
      "source": [
        "# Missing values in TT4"
      ]
    },
    {
      "cell_type": "code",
      "metadata": {
        "id": "iBtqS4LrKmjs"
      },
      "source": [
        "thy['TT4']=thy['TT4'].fillna(thy['TT4'].median())"
      ],
      "execution_count": 9,
      "outputs": []
    },
    {
      "cell_type": "code",
      "metadata": {
        "id": "1vZz5R9DKmju"
      },
      "source": [
        "thy['TT4']=thy['TT4'].apply(float)"
      ],
      "execution_count": 10,
      "outputs": []
    },
    {
      "cell_type": "markdown",
      "metadata": {
        "id": "At_k6Eo5TK_4"
      },
      "source": [
        "# Outliers in TT4"
      ]
    },
    {
      "cell_type": "code",
      "metadata": {
        "id": "CsoLb9JaKmjw",
        "outputId": "1916495e-f6e3-46e1-92e0-f6893298878a",
        "colab": {
          "base_uri": "https://localhost:8080/",
          "height": 407
        }
      },
      "source": [
        "plt.boxplot(thy['TT4'])"
      ],
      "execution_count": 11,
      "outputs": [
        {
          "output_type": "execute_result",
          "data": {
            "text/plain": [
              "{'boxes': [<matplotlib.lines.Line2D at 0x7fae77692080>],\n",
              " 'caps': [<matplotlib.lines.Line2D at 0x7fae76bfc668>,\n",
              "  <matplotlib.lines.Line2D at 0x7fae76bfc9e8>],\n",
              " 'fliers': [<matplotlib.lines.Line2D at 0x7fae76c05128>],\n",
              " 'means': [],\n",
              " 'medians': [<matplotlib.lines.Line2D at 0x7fae76bfcd68>],\n",
              " 'whiskers': [<matplotlib.lines.Line2D at 0x7fae76be5f28>,\n",
              "  <matplotlib.lines.Line2D at 0x7fae76bfc2e8>]}"
            ]
          },
          "metadata": {
            "tags": []
          },
          "execution_count": 11
        },
        {
          "output_type": "display_data",
          "data": {
            "image/png": "[encoded data removed]",
            "text/plain": [
              "<Figure size 432x288 with 1 Axes>"
            ]
          },
          "metadata": {
            "tags": [],
            "needs_background": "light"
          }
        }
      ]
    },
    {
      "cell_type": "code",
      "metadata": {
        "id": "IC8zg-XFWR4S",
        "outputId": "e1d6a490-1c7b-4d19-fdd6-a81f5b95ca69",
        "colab": {
          "base_uri": "https://localhost:8080/"
        }
      },
      "source": [
        "Q1_tt4 = thy['TT4'].quantile(0.25)\n",
        "Q3_tt4 = thy['TT4'].quantile(0.75)\n",
        "IQR_tt4 = Q3_tt4 - Q1_tt4\n",
        "print(IQR_tt4)"
      ],
      "execution_count": 12,
      "outputs": [
        {
          "output_type": "stream",
          "text": [
            "34.0\n"
          ],
          "name": "stdout"
        }
      ]
    },
    {
      "cell_type": "code",
      "metadata": {
        "id": "147Nno4CYWx_"
      },
      "source": [
        "np.array(thy[(thy['TT4'] < (Q1_tt4 - 1.5 * IQR_tt4)) | (thy['TT4'] > (Q3_tt4 + 1.5 * IQR_tt4))]['TT4'])"
      ],
      "execution_count": null,
      "outputs": []
    },
    {
      "cell_type": "markdown",
      "metadata": {
        "id": "a2JWX7R-TT63"
      },
      "source": [
        "# Missing values in T4U"
      ]
    },
    {
      "cell_type": "code",
      "metadata": {
        "id": "h2JkjiCJKmjy"
      },
      "source": [
        "thy['T4U']=thy['T4U'].fillna(thy['T4U'].median())"
      ],
      "execution_count": 23,
      "outputs": []
    },
    {
      "cell_type": "code",
      "metadata": {
        "id": "CQY-J4YgKmj0"
      },
      "source": [
        "thy['T4U']=thy['T4U'].apply(float)"
      ],
      "execution_count": 24,
      "outputs": []
    },
    {
      "cell_type": "markdown",
      "metadata": {
        "id": "KmRQiNT2TmpV"
      },
      "source": [
        "# Outliers in T4U"
      ]
    },
    {
      "cell_type": "code",
      "metadata": {
        "id": "rmgrw95CKmj4",
        "outputId": "d84193d5-1819-47e4-b65b-65c618070b26",
        "colab": {
          "base_uri": "https://localhost:8080/",
          "height": 407
        }
      },
      "source": [
        "plt.boxplot(thy['T4U'])"
      ],
      "execution_count": 25,
      "outputs": [
        {
          "output_type": "execute_result",
          "data": {
            "text/plain": [
              "{'boxes': [<matplotlib.lines.Line2D at 0x7fae6d493198>],\n",
              " 'caps': [<matplotlib.lines.Line2D at 0x7fae6d493ba8>,\n",
              "  <matplotlib.lines.Line2D at 0x7fae6d493f28>],\n",
              " 'fliers': [<matplotlib.lines.Line2D at 0x7fae6d49f668>],\n",
              " 'means': [],\n",
              " 'medians': [<matplotlib.lines.Line2D at 0x7fae6d49f2e8>],\n",
              " 'whiskers': [<matplotlib.lines.Line2D at 0x7fae6d4934a8>,\n",
              "  <matplotlib.lines.Line2D at 0x7fae6d493828>]}"
            ]
          },
          "metadata": {
            "tags": []
          },
          "execution_count": 25
        },
        {
          "output_type": "display_data",
          "data": {
            "image/png": "[encoded data removed]",
            "text/plain": [
              "<Figure size 432x288 with 1 Axes>"
            ]
          },
          "metadata": {
            "tags": [],
            "needs_background": "light"
          }
        }
      ]
    },
    {
      "cell_type": "code",
      "metadata": {
        "id": "8cj1Bwc2WP1U",
        "outputId": "473ed252-6ab1-44e5-b240-bd9224c87034",
        "colab": {
          "base_uri": "https://localhost:8080/"
        }
      },
      "source": [
        "Q1_t4u = thy['T4U'].quantile(0.25)\n",
        "Q3_t4u = thy['T4U'].quantile(0.75)\n",
        "IQR_t4u = Q3_t4u - Q1_t4u\n",
        "print(IQR_t4u)"
      ],
      "execution_count": 26,
      "outputs": [
        {
          "output_type": "stream",
          "text": [
            "0.18000000000000005\n"
          ],
          "name": "stdout"
        }
      ]
    },
    {
      "cell_type": "code",
      "metadata": {
        "id": "y0PvgVNXWPm6"
      },
      "source": [
        "np.array(thy[(thy['T4U'] < (Q1_t4u - 1.5 * IQR_t4u)) | (thy['T4U'] > (Q3_t4u + 1.5 * IQR_t4u))]['T4U'])"
      ],
      "execution_count": null,
      "outputs": []
    },
    {
      "cell_type": "markdown",
      "metadata": {
        "id": "ivb1D2uCTZYi"
      },
      "source": [
        "# Missing values in FTI"
      ]
    },
    {
      "cell_type": "code",
      "metadata": {
        "id": "OS6CU0-IKmj6"
      },
      "source": [
        "thy['FTI']=thy['FTI'].fillna(thy['FTI'].median())"
      ],
      "execution_count": 28,
      "outputs": []
    },
    {
      "cell_type": "code",
      "metadata": {
        "id": "RYBoXdi8Kmj9"
      },
      "source": [
        "thy['FTI']=thy['FTI'].apply(float)"
      ],
      "execution_count": 29,
      "outputs": []
    },
    {
      "cell_type": "markdown",
      "metadata": {
        "id": "AT-F7sjkTqxC"
      },
      "source": [
        "# Outliers in FTI"
      ]
    },
    {
      "cell_type": "code",
      "metadata": {
        "id": "bq3wTVH8Kmj_",
        "outputId": "27bc4b71-f4be-45eb-96b8-5edb07be5520"
      },
      "source": [
        "plt.boxplot(thy['FTI'])"
      ],
      "execution_count": null,
      "outputs": [
        {
          "output_type": "execute_result",
          "data": {
            "text/plain": [
              "{'whiskers': [<matplotlib.lines.Line2D at 0x22a27006848>,\n",
              "  <matplotlib.lines.Line2D at 0x22a27006f08>],\n",
              " 'caps': [<matplotlib.lines.Line2D at 0x22a2700a648>,\n",
              "  <matplotlib.lines.Line2D at 0x22a2700ad48>],\n",
              " 'boxes': [<matplotlib.lines.Line2D at 0x22a26fdaf88>],\n",
              " 'medians': [<matplotlib.lines.Line2D at 0x22a2700ae88>],\n",
              " 'fliers': [<matplotlib.lines.Line2D at 0x22a2700ebc8>],\n",
              " 'means': []}"
            ]
          },
          "metadata": {
            "tags": []
          },
          "execution_count": 525
        },
        {
          "output_type": "display_data",
          "data": {
            "image/png": "[encoded data removed]",
            "text/plain": [
              "<Figure size 432x288 with 1 Axes>"
            ]
          },
          "metadata": {
            "tags": [],
            "needs_background": "light"
          }
        }
      ]
    },
    {
      "cell_type": "code",
      "metadata": {
        "id": "3tisJTFZXCLI",
        "outputId": "41696ac3-3099-43e4-d270-662ce95eb2f6",
        "colab": {
          "base_uri": "https://localhost:8080/"
        }
      },
      "source": [
        "Q1_tu = thy['FTI'].quantile(0.25)\n",
        "Q3_tu = thy['FTI'].quantile(0.75)\n",
        "IQR_tu = Q3_tu - Q1_tu\n",
        "print(IQR_tu)"
      ],
      "execution_count": 30,
      "outputs": [
        {
          "output_type": "stream",
          "text": [
            "28.0\n"
          ],
          "name": "stdout"
        }
      ]
    },
    {
      "cell_type": "code",
      "metadata": {
        "id": "pSvrfFSoXCBx"
      },
      "source": [
        "np.array(thy[(thy['FTI'] < (Q1_tu - 1.5 * IQR_tu)) | (thy['FTI'] > (Q3_tu + 1.5 * IQR_tu))]['FTI'])"
      ],
      "execution_count": null,
      "outputs": []
    },
    {
      "cell_type": "code",
      "metadata": {
        "id": "wWcgFJAsKmkB",
        "outputId": "e8fc3e58-8df6-46c2-efeb-75928028bc94"
      },
      "source": [
        "thy.isnull().sum()#No missing values"
      ],
      "execution_count": null,
      "outputs": [
        {
          "output_type": "execute_result",
          "data": {
            "text/plain": [
              "age                          0\n",
              "sex                          0\n",
              "on_thyroxine                 0\n",
              "query_on_thyroxine           0\n",
              "on_antithyroid_medication    0\n",
              "sick                         0\n",
              "pregnant                     0\n",
              "thyroid_surgery              0\n",
              "I131_treatment               0\n",
              "query_hypothyroid            0\n",
              "query_hyperthyroid           0\n",
              "lithium                      0\n",
              "goitre                       0\n",
              "tumor                        0\n",
              "hypopituitary                0\n",
              "psych                        0\n",
              "TSH_measured                 0\n",
              "TSH                          0\n",
              "T3 measured                  0\n",
              "T3                           0\n",
              "TT4_measured                 0\n",
              "TT4                          0\n",
              "T4U_measured                 0\n",
              "T4U                          0\n",
              "FTI_measured                 0\n",
              "FTI                          0\n",
              "TBG_measured                 0\n",
              "referral_source              0\n",
              "thyroid_class                0\n",
              "dtype: int64"
            ]
          },
          "metadata": {
            "tags": []
          },
          "execution_count": 526
        }
      ]
    },
    {
      "cell_type": "code",
      "metadata": {
        "id": "HDrccDYnKmkF",
        "outputId": "183fa614-ce66-4de0-8a9f-0fdf0a30ef73"
      },
      "source": [
        "thy.columns"
      ],
      "execution_count": null,
      "outputs": [
        {
          "output_type": "execute_result",
          "data": {
            "text/plain": [
              "Index(['age', 'sex', 'on_thyroxine', 'query_on_thyroxine',\n",
              "       'on_antithyroid_medication', 'sick', 'pregnant', 'thyroid_surgery',\n",
              "       'I131_treatment', 'query_hypothyroid', 'query_hyperthyroid', 'lithium',\n",
              "       'goitre', 'tumor', 'hypopituitary', 'psych', 'TSH_measured', 'TSH',\n",
              "       'T3 measured', 'T3', 'TT4_measured', 'TT4', 'T4U_measured', 'T4U',\n",
              "       'FTI_measured', 'FTI', 'TBG_measured', 'referral_source',\n",
              "       'thyroid_class'],\n",
              "      dtype='object')"
            ]
          },
          "metadata": {
            "tags": []
          },
          "execution_count": 528
        }
      ]
    },
    {
      "cell_type": "code",
      "metadata": {
        "id": "6OS-61XmKmkJ",
        "outputId": "096215be-9c72-4ec6-99f0-791173e33b32"
      },
      "source": [
        "thy.info()"
      ],
      "execution_count": null,
      "outputs": [
        {
          "output_type": "stream",
          "text": [
            "<class 'pandas.core.frame.DataFrame'>\n",
            "Int64Index: 6932 entries, 0 to 7539\n",
            "Data columns (total 29 columns):\n",
            " #   Column                     Non-Null Count  Dtype  \n",
            "---  ------                     --------------  -----  \n",
            " 0   age                        6932 non-null   int64  \n",
            " 1   sex                        6932 non-null   object \n",
            " 2   on_thyroxine               6932 non-null   object \n",
            " 3   query_on_thyroxine         6932 non-null   object \n",
            " 4   on_antithyroid_medication  6932 non-null   object \n",
            " 5   sick                       6932 non-null   object \n",
            " 6   pregnant                   6932 non-null   object \n",
            " 7   thyroid_surgery            6932 non-null   object \n",
            " 8   I131_treatment             6932 non-null   object \n",
            " 9   query_hypothyroid          6932 non-null   object \n",
            " 10  query_hyperthyroid         6932 non-null   object \n",
            " 11  lithium                    6932 non-null   object \n",
            " 12  goitre                     6932 non-null   object \n",
            " 13  tumor                      6932 non-null   object \n",
            " 14  hypopituitary              6932 non-null   object \n",
            " 15  psych                      6932 non-null   object \n",
            " 16  TSH_measured               6932 non-null   object \n",
            " 17  TSH                        6932 non-null   float64\n",
            " 18  T3 measured                6932 non-null   object \n",
            " 19  T3                         6932 non-null   float64\n",
            " 20  TT4_measured               6932 non-null   object \n",
            " 21  TT4                        6932 non-null   float64\n",
            " 22  T4U_measured               6932 non-null   object \n",
            " 23  T4U                        6932 non-null   float64\n",
            " 24  FTI_measured               6932 non-null   object \n",
            " 25  FTI                        6932 non-null   float64\n",
            " 26  TBG_measured               6932 non-null   object \n",
            " 27  referral_source            6932 non-null   object \n",
            " 28  thyroid_class              6932 non-null   object \n",
            "dtypes: float64(5), int64(1), object(23)\n",
            "memory usage: 1.6+ MB\n"
          ],
          "name": "stdout"
        }
      ]
    },
    {
      "cell_type": "code",
      "metadata": {
        "id": "p1q3hVxNKmkL",
        "outputId": "9abdac3f-d2b5-4cae-a3b5-32ee47a8b11e"
      },
      "source": [
        "thy['thyroid_class'].value_counts()"
      ],
      "execution_count": null,
      "outputs": [
        {
          "output_type": "execute_result",
          "data": {
            "text/plain": [
              "negative        6585\n",
              "hypothyroid      220\n",
              "hyperthyroid     127\n",
              "Name: thyroid_class, dtype: int64"
            ]
          },
          "metadata": {
            "tags": []
          },
          "execution_count": 530
        }
      ]
    },
    {
      "cell_type": "code",
      "metadata": {
        "id": "L8YzIMjpKmkM"
      },
      "source": [
        "y = thy.iloc[:,-1]"
      ],
      "execution_count": null,
      "outputs": []
    },
    {
      "cell_type": "code",
      "metadata": {
        "id": "Et12XCEYKmkO",
        "outputId": "3646a2ff-edf0-4f15-da37-e0da6aab5476"
      },
      "source": [
        "y.value_counts()"
      ],
      "execution_count": null,
      "outputs": [
        {
          "output_type": "execute_result",
          "data": {
            "text/plain": [
              "negative        6585\n",
              "hypothyroid      220\n",
              "hyperthyroid     127\n",
              "Name: thyroid_class, dtype: int64"
            ]
          },
          "metadata": {
            "tags": []
          },
          "execution_count": 538
        }
      ]
    },
    {
      "cell_type": "code",
      "metadata": {
        "id": "3akvrXj2KmkQ"
      },
      "source": [
        "def thyroid(x):#function to change label\n",
        "    if x=='negative':\n",
        "        return 0\n",
        "    elif x=='hypothyroid':\n",
        "        return 1\n",
        "    else:\n",
        "        return 2"
      ],
      "execution_count": null,
      "outputs": []
    },
    {
      "cell_type": "code",
      "metadata": {
        "id": "NYNXndGBKmkU"
      },
      "source": [
        "y = y.apply(thyroid)"
      ],
      "execution_count": null,
      "outputs": []
    },
    {
      "cell_type": "code",
      "metadata": {
        "id": "9hLoZ_g5KmkW",
        "outputId": "d9c4c947-d255-4b32-b7a5-e7b89cbf723f"
      },
      "source": [
        "y.value_counts()"
      ],
      "execution_count": null,
      "outputs": [
        {
          "output_type": "execute_result",
          "data": {
            "text/plain": [
              "0    6585\n",
              "1     220\n",
              "2     127\n",
              "Name: thyroid_class, dtype: int64"
            ]
          },
          "metadata": {
            "tags": []
          },
          "execution_count": 541
        }
      ]
    },
    {
      "cell_type": "code",
      "metadata": {
        "id": "CROaII_4KmkY"
      },
      "source": [
        "X = thy.iloc[:,:-1]"
      ],
      "execution_count": null,
      "outputs": []
    },
    {
      "cell_type": "code",
      "metadata": {
        "id": "co0o0kf2Kmka",
        "outputId": "990c074c-eaab-42d0-f28b-65b260fb74f8"
      },
      "source": [
        "X.iloc[:,-1].value_counts()"
      ],
      "execution_count": null,
      "outputs": [
        {
          "output_type": "execute_result",
          "data": {
            "text/plain": [
              "other    4010\n",
              "SVI      1890\n",
              "SVHC      750\n",
              "STMW      209\n",
              "SVHD       73\n",
              "Name: referral_source, dtype: int64"
            ]
          },
          "metadata": {
            "tags": []
          },
          "execution_count": 545
        }
      ]
    },
    {
      "cell_type": "code",
      "metadata": {
        "id": "rnDB20wNKmkc"
      },
      "source": [
        "X = pd.get_dummies(X.iloc[:,:-1],drop_first=True)"
      ],
      "execution_count": null,
      "outputs": []
    },
    {
      "cell_type": "code",
      "metadata": {
        "id": "fN8OBSO8Kmke",
        "outputId": "d0e5a122-c9e7-40a0-bd4d-82e34f4d9768"
      },
      "source": [
        "X.columns"
      ],
      "execution_count": null,
      "outputs": [
        {
          "output_type": "execute_result",
          "data": {
            "text/plain": [
              "Index(['age', 'TSH', 'T3', 'TT4', 'T4U', 'FTI', 'sex_M', 'on_thyroxine_t',\n",
              "       'query_on_thyroxine_t', 'on_antithyroid_medication_t', 'sick_t',\n",
              "       'pregnant_t', 'thyroid_surgery_t', 'I131_treatment_t',\n",
              "       'query_hypothyroid_t', 'query_hyperthyroid_t', 'lithium_t', 'goitre_t',\n",
              "       'tumor_t', 'hypopituitary_t', 'psych_t', 'TSH_measured_t',\n",
              "       'T3 measured_t', 'TT4_measured_t', 'T4U_measured_t', 'FTI_measured_t'],\n",
              "      dtype='object')"
            ]
          },
          "metadata": {
            "tags": []
          },
          "execution_count": 548
        }
      ]
    },
    {
      "cell_type": "code",
      "metadata": {
        "id": "qjYUSAihKmkg"
      },
      "source": [
        "df = pd.get_dummies(thy.iloc[:,-2])"
      ],
      "execution_count": null,
      "outputs": []
    },
    {
      "cell_type": "code",
      "metadata": {
        "id": "tVnX4z6QKmki",
        "outputId": "a64c0372-763b-44ce-8ff2-5e45ab880947"
      },
      "source": [
        "df"
      ],
      "execution_count": null,
      "outputs": [
        {
          "output_type": "execute_result",
          "data": {
            "text/html": [
              "<div>\n",
              "<style scoped>\n",
              "    .dataframe tbody tr th:only-of-type {\n",
              "        vertical-align: middle;\n",
              "    }\n",
              "\n",
              "    .dataframe tbody tr th {\n",
              "        vertical-align: top;\n",
              "    }\n",
              "\n",
              "    .dataframe thead th {\n",
              "        text-align: right;\n",
              "    }\n",
              "</style>\n",
              "<table border=\"1\" class=\"dataframe\">\n",
              "  <thead>\n",
              "    <tr style=\"text-align: right;\">\n",
              "      <th></th>\n",
              "      <th>STMW</th>\n",
              "      <th>SVHC</th>\n",
              "      <th>SVHD</th>\n",
              "      <th>SVI</th>\n",
              "      <th>other</th>\n",
              "    </tr>\n",
              "  </thead>\n",
              "  <tbody>\n",
              "    <tr>\n",
              "      <th>0</th>\n",
              "      <td>0</td>\n",
              "      <td>0</td>\n",
              "      <td>0</td>\n",
              "      <td>0</td>\n",
              "      <td>1</td>\n",
              "    </tr>\n",
              "    <tr>\n",
              "      <th>1</th>\n",
              "      <td>0</td>\n",
              "      <td>0</td>\n",
              "      <td>0</td>\n",
              "      <td>0</td>\n",
              "      <td>1</td>\n",
              "    </tr>\n",
              "    <tr>\n",
              "      <th>2</th>\n",
              "      <td>0</td>\n",
              "      <td>0</td>\n",
              "      <td>0</td>\n",
              "      <td>0</td>\n",
              "      <td>1</td>\n",
              "    </tr>\n",
              "    <tr>\n",
              "      <th>3</th>\n",
              "      <td>0</td>\n",
              "      <td>0</td>\n",
              "      <td>0</td>\n",
              "      <td>1</td>\n",
              "      <td>0</td>\n",
              "    </tr>\n",
              "    <tr>\n",
              "      <th>4</th>\n",
              "      <td>0</td>\n",
              "      <td>0</td>\n",
              "      <td>0</td>\n",
              "      <td>0</td>\n",
              "      <td>1</td>\n",
              "    </tr>\n",
              "    <tr>\n",
              "      <th>...</th>\n",
              "      <td>...</td>\n",
              "      <td>...</td>\n",
              "      <td>...</td>\n",
              "      <td>...</td>\n",
              "      <td>...</td>\n",
              "    </tr>\n",
              "    <tr>\n",
              "      <th>7535</th>\n",
              "      <td>0</td>\n",
              "      <td>0</td>\n",
              "      <td>0</td>\n",
              "      <td>0</td>\n",
              "      <td>1</td>\n",
              "    </tr>\n",
              "    <tr>\n",
              "      <th>7536</th>\n",
              "      <td>0</td>\n",
              "      <td>0</td>\n",
              "      <td>0</td>\n",
              "      <td>1</td>\n",
              "      <td>0</td>\n",
              "    </tr>\n",
              "    <tr>\n",
              "      <th>7537</th>\n",
              "      <td>0</td>\n",
              "      <td>0</td>\n",
              "      <td>0</td>\n",
              "      <td>0</td>\n",
              "      <td>1</td>\n",
              "    </tr>\n",
              "    <tr>\n",
              "      <th>7538</th>\n",
              "      <td>0</td>\n",
              "      <td>0</td>\n",
              "      <td>0</td>\n",
              "      <td>1</td>\n",
              "      <td>0</td>\n",
              "    </tr>\n",
              "    <tr>\n",
              "      <th>7539</th>\n",
              "      <td>0</td>\n",
              "      <td>0</td>\n",
              "      <td>0</td>\n",
              "      <td>0</td>\n",
              "      <td>1</td>\n",
              "    </tr>\n",
              "  </tbody>\n",
              "</table>\n",
              "<p>6932 rows × 5 columns</p>\n",
              "</div>"
            ],
            "text/plain": [
              "      STMW  SVHC  SVHD  SVI  other\n",
              "0        0     0     0    0      1\n",
              "1        0     0     0    0      1\n",
              "2        0     0     0    0      1\n",
              "3        0     0     0    1      0\n",
              "4        0     0     0    0      1\n",
              "...    ...   ...   ...  ...    ...\n",
              "7535     0     0     0    0      1\n",
              "7536     0     0     0    1      0\n",
              "7537     0     0     0    0      1\n",
              "7538     0     0     0    1      0\n",
              "7539     0     0     0    0      1\n",
              "\n",
              "[6932 rows x 5 columns]"
            ]
          },
          "metadata": {
            "tags": []
          },
          "execution_count": 552
        }
      ]
    },
    {
      "cell_type": "code",
      "metadata": {
        "id": "8vGHhsPvKmkj"
      },
      "source": [
        "X = pd.concat([X,df],axis=1)"
      ],
      "execution_count": null,
      "outputs": []
    },
    {
      "cell_type": "code",
      "metadata": {
        "id": "FmnpR6a9Kmkl",
        "outputId": "b8131cad-246d-429a-ce09-1acc9de02a1a"
      },
      "source": [
        "len(X.columns)"
      ],
      "execution_count": null,
      "outputs": [
        {
          "output_type": "execute_result",
          "data": {
            "text/plain": [
              "31"
            ]
          },
          "metadata": {
            "tags": []
          },
          "execution_count": 556
        }
      ]
    },
    {
      "cell_type": "code",
      "metadata": {
        "id": "9IqEzlExKmkn",
        "outputId": "717a1646-57aa-4baa-da84-a135af62aec4"
      },
      "source": [
        "X"
      ],
      "execution_count": null,
      "outputs": [
        {
          "output_type": "execute_result",
          "data": {
            "text/html": [
              "<div>\n",
              "<style scoped>\n",
              "    .dataframe tbody tr th:only-of-type {\n",
              "        vertical-align: middle;\n",
              "    }\n",
              "\n",
              "    .dataframe tbody tr th {\n",
              "        vertical-align: top;\n",
              "    }\n",
              "\n",
              "    .dataframe thead th {\n",
              "        text-align: right;\n",
              "    }\n",
              "</style>\n",
              "<table border=\"1\" class=\"dataframe\">\n",
              "  <thead>\n",
              "    <tr style=\"text-align: right;\">\n",
              "      <th></th>\n",
              "      <th>age</th>\n",
              "      <th>TSH</th>\n",
              "      <th>T3</th>\n",
              "      <th>TT4</th>\n",
              "      <th>T4U</th>\n",
              "      <th>FTI</th>\n",
              "      <th>sex_M</th>\n",
              "      <th>on_thyroxine_t</th>\n",
              "      <th>query_on_thyroxine_t</th>\n",
              "      <th>on_antithyroid_medication_t</th>\n",
              "      <th>...</th>\n",
              "      <th>TSH_measured_t</th>\n",
              "      <th>T3 measured_t</th>\n",
              "      <th>TT4_measured_t</th>\n",
              "      <th>T4U_measured_t</th>\n",
              "      <th>FTI_measured_t</th>\n",
              "      <th>STMW</th>\n",
              "      <th>SVHC</th>\n",
              "      <th>SVHD</th>\n",
              "      <th>SVI</th>\n",
              "      <th>other</th>\n",
              "    </tr>\n",
              "  </thead>\n",
              "  <tbody>\n",
              "    <tr>\n",
              "      <th>0</th>\n",
              "      <td>23</td>\n",
              "      <td>4.10</td>\n",
              "      <td>2.0</td>\n",
              "      <td>102.0</td>\n",
              "      <td>0.97</td>\n",
              "      <td>108.0</td>\n",
              "      <td>0</td>\n",
              "      <td>0</td>\n",
              "      <td>0</td>\n",
              "      <td>0</td>\n",
              "      <td>...</td>\n",
              "      <td>1</td>\n",
              "      <td>1</td>\n",
              "      <td>1</td>\n",
              "      <td>0</td>\n",
              "      <td>0</td>\n",
              "      <td>0</td>\n",
              "      <td>0</td>\n",
              "      <td>0</td>\n",
              "      <td>0</td>\n",
              "      <td>1</td>\n",
              "    </tr>\n",
              "    <tr>\n",
              "      <th>1</th>\n",
              "      <td>46</td>\n",
              "      <td>0.98</td>\n",
              "      <td>2.0</td>\n",
              "      <td>109.0</td>\n",
              "      <td>0.91</td>\n",
              "      <td>120.0</td>\n",
              "      <td>1</td>\n",
              "      <td>0</td>\n",
              "      <td>0</td>\n",
              "      <td>0</td>\n",
              "      <td>...</td>\n",
              "      <td>1</td>\n",
              "      <td>0</td>\n",
              "      <td>1</td>\n",
              "      <td>1</td>\n",
              "      <td>1</td>\n",
              "      <td>0</td>\n",
              "      <td>0</td>\n",
              "      <td>0</td>\n",
              "      <td>0</td>\n",
              "      <td>1</td>\n",
              "    </tr>\n",
              "    <tr>\n",
              "      <th>2</th>\n",
              "      <td>70</td>\n",
              "      <td>0.16</td>\n",
              "      <td>1.9</td>\n",
              "      <td>175.0</td>\n",
              "      <td>0.97</td>\n",
              "      <td>108.0</td>\n",
              "      <td>0</td>\n",
              "      <td>1</td>\n",
              "      <td>0</td>\n",
              "      <td>0</td>\n",
              "      <td>...</td>\n",
              "      <td>1</td>\n",
              "      <td>1</td>\n",
              "      <td>1</td>\n",
              "      <td>0</td>\n",
              "      <td>0</td>\n",
              "      <td>0</td>\n",
              "      <td>0</td>\n",
              "      <td>0</td>\n",
              "      <td>0</td>\n",
              "      <td>1</td>\n",
              "    </tr>\n",
              "    <tr>\n",
              "      <th>3</th>\n",
              "      <td>70</td>\n",
              "      <td>0.72</td>\n",
              "      <td>1.2</td>\n",
              "      <td>61.0</td>\n",
              "      <td>0.87</td>\n",
              "      <td>70.0</td>\n",
              "      <td>0</td>\n",
              "      <td>0</td>\n",
              "      <td>0</td>\n",
              "      <td>0</td>\n",
              "      <td>...</td>\n",
              "      <td>1</td>\n",
              "      <td>1</td>\n",
              "      <td>1</td>\n",
              "      <td>1</td>\n",
              "      <td>1</td>\n",
              "      <td>0</td>\n",
              "      <td>0</td>\n",
              "      <td>0</td>\n",
              "      <td>1</td>\n",
              "      <td>0</td>\n",
              "    </tr>\n",
              "    <tr>\n",
              "      <th>4</th>\n",
              "      <td>18</td>\n",
              "      <td>0.03</td>\n",
              "      <td>2.0</td>\n",
              "      <td>183.0</td>\n",
              "      <td>1.30</td>\n",
              "      <td>141.0</td>\n",
              "      <td>0</td>\n",
              "      <td>1</td>\n",
              "      <td>0</td>\n",
              "      <td>0</td>\n",
              "      <td>...</td>\n",
              "      <td>1</td>\n",
              "      <td>0</td>\n",
              "      <td>1</td>\n",
              "      <td>1</td>\n",
              "      <td>1</td>\n",
              "      <td>0</td>\n",
              "      <td>0</td>\n",
              "      <td>0</td>\n",
              "      <td>0</td>\n",
              "      <td>1</td>\n",
              "    </tr>\n",
              "    <tr>\n",
              "      <th>...</th>\n",
              "      <td>...</td>\n",
              "      <td>...</td>\n",
              "      <td>...</td>\n",
              "      <td>...</td>\n",
              "      <td>...</td>\n",
              "      <td>...</td>\n",
              "      <td>...</td>\n",
              "      <td>...</td>\n",
              "      <td>...</td>\n",
              "      <td>...</td>\n",
              "      <td>...</td>\n",
              "      <td>...</td>\n",
              "      <td>...</td>\n",
              "      <td>...</td>\n",
              "      <td>...</td>\n",
              "      <td>...</td>\n",
              "      <td>...</td>\n",
              "      <td>...</td>\n",
              "      <td>...</td>\n",
              "      <td>...</td>\n",
              "      <td>...</td>\n",
              "    </tr>\n",
              "    <tr>\n",
              "      <th>7535</th>\n",
              "      <td>30</td>\n",
              "      <td>1.40</td>\n",
              "      <td>2.0</td>\n",
              "      <td>105.0</td>\n",
              "      <td>0.97</td>\n",
              "      <td>108.0</td>\n",
              "      <td>0</td>\n",
              "      <td>0</td>\n",
              "      <td>0</td>\n",
              "      <td>0</td>\n",
              "      <td>...</td>\n",
              "      <td>0</td>\n",
              "      <td>0</td>\n",
              "      <td>0</td>\n",
              "      <td>0</td>\n",
              "      <td>0</td>\n",
              "      <td>0</td>\n",
              "      <td>0</td>\n",
              "      <td>0</td>\n",
              "      <td>0</td>\n",
              "      <td>1</td>\n",
              "    </tr>\n",
              "    <tr>\n",
              "      <th>7536</th>\n",
              "      <td>68</td>\n",
              "      <td>1.00</td>\n",
              "      <td>2.1</td>\n",
              "      <td>124.0</td>\n",
              "      <td>1.08</td>\n",
              "      <td>114.0</td>\n",
              "      <td>0</td>\n",
              "      <td>0</td>\n",
              "      <td>0</td>\n",
              "      <td>0</td>\n",
              "      <td>...</td>\n",
              "      <td>1</td>\n",
              "      <td>1</td>\n",
              "      <td>1</td>\n",
              "      <td>1</td>\n",
              "      <td>1</td>\n",
              "      <td>0</td>\n",
              "      <td>0</td>\n",
              "      <td>0</td>\n",
              "      <td>1</td>\n",
              "      <td>0</td>\n",
              "    </tr>\n",
              "    <tr>\n",
              "      <th>7537</th>\n",
              "      <td>74</td>\n",
              "      <td>5.10</td>\n",
              "      <td>1.8</td>\n",
              "      <td>112.0</td>\n",
              "      <td>1.07</td>\n",
              "      <td>105.0</td>\n",
              "      <td>0</td>\n",
              "      <td>0</td>\n",
              "      <td>0</td>\n",
              "      <td>0</td>\n",
              "      <td>...</td>\n",
              "      <td>1</td>\n",
              "      <td>1</td>\n",
              "      <td>1</td>\n",
              "      <td>1</td>\n",
              "      <td>1</td>\n",
              "      <td>0</td>\n",
              "      <td>0</td>\n",
              "      <td>0</td>\n",
              "      <td>0</td>\n",
              "      <td>1</td>\n",
              "    </tr>\n",
              "    <tr>\n",
              "      <th>7538</th>\n",
              "      <td>72</td>\n",
              "      <td>0.70</td>\n",
              "      <td>2.0</td>\n",
              "      <td>82.0</td>\n",
              "      <td>0.94</td>\n",
              "      <td>87.0</td>\n",
              "      <td>1</td>\n",
              "      <td>0</td>\n",
              "      <td>0</td>\n",
              "      <td>0</td>\n",
              "      <td>...</td>\n",
              "      <td>1</td>\n",
              "      <td>1</td>\n",
              "      <td>1</td>\n",
              "      <td>1</td>\n",
              "      <td>1</td>\n",
              "      <td>0</td>\n",
              "      <td>0</td>\n",
              "      <td>0</td>\n",
              "      <td>1</td>\n",
              "      <td>0</td>\n",
              "    </tr>\n",
              "    <tr>\n",
              "      <th>7539</th>\n",
              "      <td>64</td>\n",
              "      <td>1.00</td>\n",
              "      <td>2.2</td>\n",
              "      <td>99.0</td>\n",
              "      <td>1.07</td>\n",
              "      <td>92.0</td>\n",
              "      <td>0</td>\n",
              "      <td>0</td>\n",
              "      <td>0</td>\n",
              "      <td>0</td>\n",
              "      <td>...</td>\n",
              "      <td>1</td>\n",
              "      <td>1</td>\n",
              "      <td>1</td>\n",
              "      <td>1</td>\n",
              "      <td>1</td>\n",
              "      <td>0</td>\n",
              "      <td>0</td>\n",
              "      <td>0</td>\n",
              "      <td>0</td>\n",
              "      <td>1</td>\n",
              "    </tr>\n",
              "  </tbody>\n",
              "</table>\n",
              "<p>6932 rows × 31 columns</p>\n",
              "</div>"
            ],
            "text/plain": [
              "      age   TSH   T3    TT4   T4U    FTI  sex_M  on_thyroxine_t  \\\n",
              "0      23  4.10  2.0  102.0  0.97  108.0      0               0   \n",
              "1      46  0.98  2.0  109.0  0.91  120.0      1               0   \n",
              "2      70  0.16  1.9  175.0  0.97  108.0      0               1   \n",
              "3      70  0.72  1.2   61.0  0.87   70.0      0               0   \n",
              "4      18  0.03  2.0  183.0  1.30  141.0      0               1   \n",
              "...   ...   ...  ...    ...   ...    ...    ...             ...   \n",
              "7535   30  1.40  2.0  105.0  0.97  108.0      0               0   \n",
              "7536   68  1.00  2.1  124.0  1.08  114.0      0               0   \n",
              "7537   74  5.10  1.8  112.0  1.07  105.0      0               0   \n",
              "7538   72  0.70  2.0   82.0  0.94   87.0      1               0   \n",
              "7539   64  1.00  2.2   99.0  1.07   92.0      0               0   \n",
              "\n",
              "      query_on_thyroxine_t  on_antithyroid_medication_t  ...  TSH_measured_t  \\\n",
              "0                        0                            0  ...               1   \n",
              "1                        0                            0  ...               1   \n",
              "2                        0                            0  ...               1   \n",
              "3                        0                            0  ...               1   \n",
              "4                        0                            0  ...               1   \n",
              "...                    ...                          ...  ...             ...   \n",
              "7535                     0                            0  ...               0   \n",
              "7536                     0                            0  ...               1   \n",
              "7537                     0                            0  ...               1   \n",
              "7538                     0                            0  ...               1   \n",
              "7539                     0                            0  ...               1   \n",
              "\n",
              "      T3 measured_t  TT4_measured_t  T4U_measured_t  FTI_measured_t  STMW  \\\n",
              "0                 1               1               0               0     0   \n",
              "1                 0               1               1               1     0   \n",
              "2                 1               1               0               0     0   \n",
              "3                 1               1               1               1     0   \n",
              "4                 0               1               1               1     0   \n",
              "...             ...             ...             ...             ...   ...   \n",
              "7535              0               0               0               0     0   \n",
              "7536              1               1               1               1     0   \n",
              "7537              1               1               1               1     0   \n",
              "7538              1               1               1               1     0   \n",
              "7539              1               1               1               1     0   \n",
              "\n",
              "      SVHC  SVHD  SVI  other  \n",
              "0        0     0    0      1  \n",
              "1        0     0    0      1  \n",
              "2        0     0    0      1  \n",
              "3        0     0    1      0  \n",
              "4        0     0    0      1  \n",
              "...    ...   ...  ...    ...  \n",
              "7535     0     0    0      1  \n",
              "7536     0     0    1      0  \n",
              "7537     0     0    0      1  \n",
              "7538     0     0    1      0  \n",
              "7539     0     0    0      1  \n",
              "\n",
              "[6932 rows x 31 columns]"
            ]
          },
          "metadata": {
            "tags": []
          },
          "execution_count": 557
        }
      ]
    },
    {
      "cell_type": "code",
      "metadata": {
        "id": "LzrAu5ziKmkp",
        "outputId": "2b3f3ff1-e471-4144-beb2-77fc29577f4b"
      },
      "source": [
        "y"
      ],
      "execution_count": null,
      "outputs": [
        {
          "output_type": "execute_result",
          "data": {
            "text/plain": [
              "0       0\n",
              "1       0\n",
              "2       0\n",
              "3       0\n",
              "4       0\n",
              "       ..\n",
              "7535    0\n",
              "7536    0\n",
              "7537    0\n",
              "7538    0\n",
              "7539    0\n",
              "Name: thyroid_class, Length: 6932, dtype: int64"
            ]
          },
          "metadata": {
            "tags": []
          },
          "execution_count": 560
        }
      ]
    },
    {
      "cell_type": "markdown",
      "metadata": {
        "id": "mM_z0yRta2li"
      },
      "source": [
        "# Final DataFrame"
      ]
    },
    {
      "cell_type": "code",
      "metadata": {
        "id": "LGlxfCo7Kmkr"
      },
      "source": [
        "thyroid_fin = pd.concat([X,y],axis=1)"
      ],
      "execution_count": null,
      "outputs": []
    },
    {
      "cell_type": "code",
      "metadata": {
        "id": "se5VV4ACKmk4",
        "outputId": "40b8f676-5317-4658-91ba-1e7ffe735071"
      },
      "source": [
        "thyroid_fin"
      ],
      "execution_count": null,
      "outputs": [
        {
          "output_type": "execute_result",
          "data": {
            "text/html": [
              "<div>\n",
              "<style scoped>\n",
              "    .dataframe tbody tr th:only-of-type {\n",
              "        vertical-align: middle;\n",
              "    }\n",
              "\n",
              "    .dataframe tbody tr th {\n",
              "        vertical-align: top;\n",
              "    }\n",
              "\n",
              "    .dataframe thead th {\n",
              "        text-align: right;\n",
              "    }\n",
              "</style>\n",
              "<table border=\"1\" class=\"dataframe\">\n",
              "  <thead>\n",
              "    <tr style=\"text-align: right;\">\n",
              "      <th></th>\n",
              "      <th>age</th>\n",
              "      <th>TSH</th>\n",
              "      <th>T3</th>\n",
              "      <th>TT4</th>\n",
              "      <th>T4U</th>\n",
              "      <th>FTI</th>\n",
              "      <th>sex_M</th>\n",
              "      <th>on_thyroxine_t</th>\n",
              "      <th>query_on_thyroxine_t</th>\n",
              "      <th>on_antithyroid_medication_t</th>\n",
              "      <th>...</th>\n",
              "      <th>T3 measured_t</th>\n",
              "      <th>TT4_measured_t</th>\n",
              "      <th>T4U_measured_t</th>\n",
              "      <th>FTI_measured_t</th>\n",
              "      <th>STMW</th>\n",
              "      <th>SVHC</th>\n",
              "      <th>SVHD</th>\n",
              "      <th>SVI</th>\n",
              "      <th>other</th>\n",
              "      <th>thyroid_class</th>\n",
              "    </tr>\n",
              "  </thead>\n",
              "  <tbody>\n",
              "    <tr>\n",
              "      <th>0</th>\n",
              "      <td>23</td>\n",
              "      <td>4.10</td>\n",
              "      <td>2.0</td>\n",
              "      <td>102.0</td>\n",
              "      <td>0.97</td>\n",
              "      <td>108.0</td>\n",
              "      <td>0</td>\n",
              "      <td>0</td>\n",
              "      <td>0</td>\n",
              "      <td>0</td>\n",
              "      <td>...</td>\n",
              "      <td>1</td>\n",
              "      <td>1</td>\n",
              "      <td>0</td>\n",
              "      <td>0</td>\n",
              "      <td>0</td>\n",
              "      <td>0</td>\n",
              "      <td>0</td>\n",
              "      <td>0</td>\n",
              "      <td>1</td>\n",
              "      <td>0</td>\n",
              "    </tr>\n",
              "    <tr>\n",
              "      <th>1</th>\n",
              "      <td>46</td>\n",
              "      <td>0.98</td>\n",
              "      <td>2.0</td>\n",
              "      <td>109.0</td>\n",
              "      <td>0.91</td>\n",
              "      <td>120.0</td>\n",
              "      <td>1</td>\n",
              "      <td>0</td>\n",
              "      <td>0</td>\n",
              "      <td>0</td>\n",
              "      <td>...</td>\n",
              "      <td>0</td>\n",
              "      <td>1</td>\n",
              "      <td>1</td>\n",
              "      <td>1</td>\n",
              "      <td>0</td>\n",
              "      <td>0</td>\n",
              "      <td>0</td>\n",
              "      <td>0</td>\n",
              "      <td>1</td>\n",
              "      <td>0</td>\n",
              "    </tr>\n",
              "    <tr>\n",
              "      <th>2</th>\n",
              "      <td>70</td>\n",
              "      <td>0.16</td>\n",
              "      <td>1.9</td>\n",
              "      <td>175.0</td>\n",
              "      <td>0.97</td>\n",
              "      <td>108.0</td>\n",
              "      <td>0</td>\n",
              "      <td>1</td>\n",
              "      <td>0</td>\n",
              "      <td>0</td>\n",
              "      <td>...</td>\n",
              "      <td>1</td>\n",
              "      <td>1</td>\n",
              "      <td>0</td>\n",
              "      <td>0</td>\n",
              "      <td>0</td>\n",
              "      <td>0</td>\n",
              "      <td>0</td>\n",
              "      <td>0</td>\n",
              "      <td>1</td>\n",
              "      <td>0</td>\n",
              "    </tr>\n",
              "    <tr>\n",
              "      <th>3</th>\n",
              "      <td>70</td>\n",
              "      <td>0.72</td>\n",
              "      <td>1.2</td>\n",
              "      <td>61.0</td>\n",
              "      <td>0.87</td>\n",
              "      <td>70.0</td>\n",
              "      <td>0</td>\n",
              "      <td>0</td>\n",
              "      <td>0</td>\n",
              "      <td>0</td>\n",
              "      <td>...</td>\n",
              "      <td>1</td>\n",
              "      <td>1</td>\n",
              "      <td>1</td>\n",
              "      <td>1</td>\n",
              "      <td>0</td>\n",
              "      <td>0</td>\n",
              "      <td>0</td>\n",
              "      <td>1</td>\n",
              "      <td>0</td>\n",
              "      <td>0</td>\n",
              "    </tr>\n",
              "    <tr>\n",
              "      <th>4</th>\n",
              "      <td>18</td>\n",
              "      <td>0.03</td>\n",
              "      <td>2.0</td>\n",
              "      <td>183.0</td>\n",
              "      <td>1.30</td>\n",
              "      <td>141.0</td>\n",
              "      <td>0</td>\n",
              "      <td>1</td>\n",
              "      <td>0</td>\n",
              "      <td>0</td>\n",
              "      <td>...</td>\n",
              "      <td>0</td>\n",
              "      <td>1</td>\n",
              "      <td>1</td>\n",
              "      <td>1</td>\n",
              "      <td>0</td>\n",
              "      <td>0</td>\n",
              "      <td>0</td>\n",
              "      <td>0</td>\n",
              "      <td>1</td>\n",
              "      <td>0</td>\n",
              "    </tr>\n",
              "    <tr>\n",
              "      <th>...</th>\n",
              "      <td>...</td>\n",
              "      <td>...</td>\n",
              "      <td>...</td>\n",
              "      <td>...</td>\n",
              "      <td>...</td>\n",
              "      <td>...</td>\n",
              "      <td>...</td>\n",
              "      <td>...</td>\n",
              "      <td>...</td>\n",
              "      <td>...</td>\n",
              "      <td>...</td>\n",
              "      <td>...</td>\n",
              "      <td>...</td>\n",
              "      <td>...</td>\n",
              "      <td>...</td>\n",
              "      <td>...</td>\n",
              "      <td>...</td>\n",
              "      <td>...</td>\n",
              "      <td>...</td>\n",
              "      <td>...</td>\n",
              "      <td>...</td>\n",
              "    </tr>\n",
              "    <tr>\n",
              "      <th>7535</th>\n",
              "      <td>30</td>\n",
              "      <td>1.40</td>\n",
              "      <td>2.0</td>\n",
              "      <td>105.0</td>\n",
              "      <td>0.97</td>\n",
              "      <td>108.0</td>\n",
              "      <td>0</td>\n",
              "      <td>0</td>\n",
              "      <td>0</td>\n",
              "      <td>0</td>\n",
              "      <td>...</td>\n",
              "      <td>0</td>\n",
              "      <td>0</td>\n",
              "      <td>0</td>\n",
              "      <td>0</td>\n",
              "      <td>0</td>\n",
              "      <td>0</td>\n",
              "      <td>0</td>\n",
              "      <td>0</td>\n",
              "      <td>1</td>\n",
              "      <td>0</td>\n",
              "    </tr>\n",
              "    <tr>\n",
              "      <th>7536</th>\n",
              "      <td>68</td>\n",
              "      <td>1.00</td>\n",
              "      <td>2.1</td>\n",
              "      <td>124.0</td>\n",
              "      <td>1.08</td>\n",
              "      <td>114.0</td>\n",
              "      <td>0</td>\n",
              "      <td>0</td>\n",
              "      <td>0</td>\n",
              "      <td>0</td>\n",
              "      <td>...</td>\n",
              "      <td>1</td>\n",
              "      <td>1</td>\n",
              "      <td>1</td>\n",
              "      <td>1</td>\n",
              "      <td>0</td>\n",
              "      <td>0</td>\n",
              "      <td>0</td>\n",
              "      <td>1</td>\n",
              "      <td>0</td>\n",
              "      <td>0</td>\n",
              "    </tr>\n",
              "    <tr>\n",
              "      <th>7537</th>\n",
              "      <td>74</td>\n",
              "      <td>5.10</td>\n",
              "      <td>1.8</td>\n",
              "      <td>112.0</td>\n",
              "      <td>1.07</td>\n",
              "      <td>105.0</td>\n",
              "      <td>0</td>\n",
              "      <td>0</td>\n",
              "      <td>0</td>\n",
              "      <td>0</td>\n",
              "      <td>...</td>\n",
              "      <td>1</td>\n",
              "      <td>1</td>\n",
              "      <td>1</td>\n",
              "      <td>1</td>\n",
              "      <td>0</td>\n",
              "      <td>0</td>\n",
              "      <td>0</td>\n",
              "      <td>0</td>\n",
              "      <td>1</td>\n",
              "      <td>0</td>\n",
              "    </tr>\n",
              "    <tr>\n",
              "      <th>7538</th>\n",
              "      <td>72</td>\n",
              "      <td>0.70</td>\n",
              "      <td>2.0</td>\n",
              "      <td>82.0</td>\n",
              "      <td>0.94</td>\n",
              "      <td>87.0</td>\n",
              "      <td>1</td>\n",
              "      <td>0</td>\n",
              "      <td>0</td>\n",
              "      <td>0</td>\n",
              "      <td>...</td>\n",
              "      <td>1</td>\n",
              "      <td>1</td>\n",
              "      <td>1</td>\n",
              "      <td>1</td>\n",
              "      <td>0</td>\n",
              "      <td>0</td>\n",
              "      <td>0</td>\n",
              "      <td>1</td>\n",
              "      <td>0</td>\n",
              "      <td>0</td>\n",
              "    </tr>\n",
              "    <tr>\n",
              "      <th>7539</th>\n",
              "      <td>64</td>\n",
              "      <td>1.00</td>\n",
              "      <td>2.2</td>\n",
              "      <td>99.0</td>\n",
              "      <td>1.07</td>\n",
              "      <td>92.0</td>\n",
              "      <td>0</td>\n",
              "      <td>0</td>\n",
              "      <td>0</td>\n",
              "      <td>0</td>\n",
              "      <td>...</td>\n",
              "      <td>1</td>\n",
              "      <td>1</td>\n",
              "      <td>1</td>\n",
              "      <td>1</td>\n",
              "      <td>0</td>\n",
              "      <td>0</td>\n",
              "      <td>0</td>\n",
              "      <td>0</td>\n",
              "      <td>1</td>\n",
              "      <td>0</td>\n",
              "    </tr>\n",
              "  </tbody>\n",
              "</table>\n",
              "<p>6930 rows × 32 columns</p>\n",
              "</div>"
            ],
            "text/plain": [
              "      age   TSH   T3    TT4   T4U    FTI  sex_M  on_thyroxine_t  \\\n",
              "0      23  4.10  2.0  102.0  0.97  108.0      0               0   \n",
              "1      46  0.98  2.0  109.0  0.91  120.0      1               0   \n",
              "2      70  0.16  1.9  175.0  0.97  108.0      0               1   \n",
              "3      70  0.72  1.2   61.0  0.87   70.0      0               0   \n",
              "4      18  0.03  2.0  183.0  1.30  141.0      0               1   \n",
              "...   ...   ...  ...    ...   ...    ...    ...             ...   \n",
              "7535   30  1.40  2.0  105.0  0.97  108.0      0               0   \n",
              "7536   68  1.00  2.1  124.0  1.08  114.0      0               0   \n",
              "7537   74  5.10  1.8  112.0  1.07  105.0      0               0   \n",
              "7538   72  0.70  2.0   82.0  0.94   87.0      1               0   \n",
              "7539   64  1.00  2.2   99.0  1.07   92.0      0               0   \n",
              "\n",
              "      query_on_thyroxine_t  on_antithyroid_medication_t  ...  T3 measured_t  \\\n",
              "0                        0                            0  ...              1   \n",
              "1                        0                            0  ...              0   \n",
              "2                        0                            0  ...              1   \n",
              "3                        0                            0  ...              1   \n",
              "4                        0                            0  ...              0   \n",
              "...                    ...                          ...  ...            ...   \n",
              "7535                     0                            0  ...              0   \n",
              "7536                     0                            0  ...              1   \n",
              "7537                     0                            0  ...              1   \n",
              "7538                     0                            0  ...              1   \n",
              "7539                     0                            0  ...              1   \n",
              "\n",
              "      TT4_measured_t  T4U_measured_t  FTI_measured_t  STMW  SVHC  SVHD  SVI  \\\n",
              "0                  1               0               0     0     0     0    0   \n",
              "1                  1               1               1     0     0     0    0   \n",
              "2                  1               0               0     0     0     0    0   \n",
              "3                  1               1               1     0     0     0    1   \n",
              "4                  1               1               1     0     0     0    0   \n",
              "...              ...             ...             ...   ...   ...   ...  ...   \n",
              "7535               0               0               0     0     0     0    0   \n",
              "7536               1               1               1     0     0     0    1   \n",
              "7537               1               1               1     0     0     0    0   \n",
              "7538               1               1               1     0     0     0    1   \n",
              "7539               1               1               1     0     0     0    0   \n",
              "\n",
              "      other  thyroid_class  \n",
              "0         1              0  \n",
              "1         1              0  \n",
              "2         1              0  \n",
              "3         0              0  \n",
              "4         1              0  \n",
              "...     ...            ...  \n",
              "7535      1              0  \n",
              "7536      0              0  \n",
              "7537      1              0  \n",
              "7538      0              0  \n",
              "7539      1              0  \n",
              "\n",
              "[6930 rows x 32 columns]"
            ]
          },
          "metadata": {
            "tags": []
          },
          "execution_count": 576
        }
      ]
    },
    {
      "cell_type": "code",
      "metadata": {
        "id": "lcBMFLUqKmk6"
      },
      "source": [
        "thyroid_fin.to_csv('Fin_Uci_thyroid1.csv',index=False)"
      ],
      "execution_count": null,
      "outputs": []
    }
  ]
}