{
 "cells": [
  {
   "cell_type": "code",
   "execution_count": 47,
   "metadata": {},
   "outputs": [],
   "source": [
    "import pandas as pd\n",
    "import numpy as np\n",
    "import requests\n",
    "from bs4 import BeautifulSoup"
   ]
  },
  {
   "cell_type": "code",
   "execution_count": 13,
   "metadata": {},
   "outputs": [],
   "source": [
    "URL = 'https://archive.ics.uci.edu/ml/machine-learning-databases/thyroid-disease/'\n",
    "page = requests.get(URL)\n",
    "soup = BeautifulSoup(page.content, 'html.parser')"
   ]
  },
  {
   "cell_type": "code",
   "execution_count": 22,
   "metadata": {},
   "outputs": [],
   "source": [
    "na = soup.find_all('li')"
   ]
  },
  {
   "cell_type": "code",
   "execution_count": 45,
   "metadata": {},
   "outputs": [],
   "source": [
    "li=[]\n",
    "for x in range(3,len(na)):\n",
    "    if na[x].text.split()[0][-1]!='/':\n",
    "        li.append(URL+na[x].text.split()[0])"
   ]
  },
  {
   "cell_type": "code",
   "execution_count": 46,
   "metadata": {
    "scrolled": true
   },
   "outputs": [
    {
     "data": {
      "text/plain": [
       "['https://archive.ics.uci.edu/ml/machine-learning-databases/thyroid-disease/allbp.data',\n",
       " 'https://archive.ics.uci.edu/ml/machine-learning-databases/thyroid-disease/allbp.names',\n",
       " 'https://archive.ics.uci.edu/ml/machine-learning-databases/thyroid-disease/allbp.test',\n",
       " 'https://archive.ics.uci.edu/ml/machine-learning-databases/thyroid-disease/allhyper.data',\n",
       " 'https://archive.ics.uci.edu/ml/machine-learning-databases/thyroid-disease/allhyper.names',\n",
       " 'https://archive.ics.uci.edu/ml/machine-learning-databases/thyroid-disease/allhyper.test',\n",
       " 'https://archive.ics.uci.edu/ml/machine-learning-databases/thyroid-disease/allhypo.data',\n",
       " 'https://archive.ics.uci.edu/ml/machine-learning-databases/thyroid-disease/allhypo.names',\n",
       " 'https://archive.ics.uci.edu/ml/machine-learning-databases/thyroid-disease/allhypo.test',\n",
       " 'https://archive.ics.uci.edu/ml/machine-learning-databases/thyroid-disease/allrep.data',\n",
       " 'https://archive.ics.uci.edu/ml/machine-learning-databases/thyroid-disease/allrep.names',\n",
       " 'https://archive.ics.uci.edu/ml/machine-learning-databases/thyroid-disease/allrep.test',\n",
       " 'https://archive.ics.uci.edu/ml/machine-learning-databases/thyroid-disease/ann-Readme',\n",
       " 'https://archive.ics.uci.edu/ml/machine-learning-databases/thyroid-disease/ann-test.data',\n",
       " 'https://archive.ics.uci.edu/ml/machine-learning-databases/thyroid-disease/ann-thyroid.names',\n",
       " 'https://archive.ics.uci.edu/ml/machine-learning-databases/thyroid-disease/ann-train.data',\n",
       " 'https://archive.ics.uci.edu/ml/machine-learning-databases/thyroid-disease/dis.data',\n",
       " 'https://archive.ics.uci.edu/ml/machine-learning-databases/thyroid-disease/dis.names',\n",
       " 'https://archive.ics.uci.edu/ml/machine-learning-databases/thyroid-disease/dis.test',\n",
       " 'https://archive.ics.uci.edu/ml/machine-learning-databases/thyroid-disease/hypothyroid.data',\n",
       " 'https://archive.ics.uci.edu/ml/machine-learning-databases/thyroid-disease/hypothyroid.names',\n",
       " 'https://archive.ics.uci.edu/ml/machine-learning-databases/thyroid-disease/new-thyroid.data',\n",
       " 'https://archive.ics.uci.edu/ml/machine-learning-databases/thyroid-disease/new-thyroid.names',\n",
       " 'https://archive.ics.uci.edu/ml/machine-learning-databases/thyroid-disease/sick-euthyroid.data',\n",
       " 'https://archive.ics.uci.edu/ml/machine-learning-databases/thyroid-disease/sick-euthyroid.names',\n",
       " 'https://archive.ics.uci.edu/ml/machine-learning-databases/thyroid-disease/sick.data',\n",
       " 'https://archive.ics.uci.edu/ml/machine-learning-databases/thyroid-disease/sick.names',\n",
       " 'https://archive.ics.uci.edu/ml/machine-learning-databases/thyroid-disease/sick.test',\n",
       " 'https://archive.ics.uci.edu/ml/machine-learning-databases/thyroid-disease/thyroid.theory',\n",
       " 'https://archive.ics.uci.edu/ml/machine-learning-databases/thyroid-disease/thyroid0387.data',\n",
       " 'https://archive.ics.uci.edu/ml/machine-learning-databases/thyroid-disease/thyroid0387.names']"
      ]
     },
     "execution_count": 46,
     "metadata": {},
     "output_type": "execute_result"
    }
   ],
   "source": [
    "li"
   ]
  },
  {
   "cell_type": "code",
   "execution_count": 7,
   "metadata": {},
   "outputs": [],
   "source": [
    "z = pd.read_csv('https://archive.ics.uci.edu/ml/machine-learning-databases/thyroid-disease/allbp.data')"
   ]
  },
  {
   "cell_type": "code",
   "execution_count": 11,
   "metadata": {
    "collapsed": true
   },
   "outputs": [
    {
     "data": {
      "text/html": [
       "<div>\n",
       "<style scoped>\n",
       "    .dataframe tbody tr th:only-of-type {\n",
       "        vertical-align: middle;\n",
       "    }\n",
       "\n",
       "    .dataframe tbody tr th {\n",
       "        vertical-align: top;\n",
       "    }\n",
       "\n",
       "    .dataframe thead th {\n",
       "        text-align: right;\n",
       "    }\n",
       "</style>\n",
       "<table border=\"1\" class=\"dataframe\">\n",
       "  <thead>\n",
       "    <tr style=\"text-align: right;\">\n",
       "      <th></th>\n",
       "      <th>41</th>\n",
       "      <th>F</th>\n",
       "      <th>f</th>\n",
       "      <th>f.1</th>\n",
       "      <th>f.2</th>\n",
       "      <th>f.3</th>\n",
       "      <th>f.4</th>\n",
       "      <th>f.5</th>\n",
       "      <th>f.6</th>\n",
       "      <th>f.7</th>\n",
       "      <th>...</th>\n",
       "      <th>t.2</th>\n",
       "      <th>125</th>\n",
       "      <th>t.3</th>\n",
       "      <th>1.14</th>\n",
       "      <th>t.4</th>\n",
       "      <th>109</th>\n",
       "      <th>f.14</th>\n",
       "      <th>?</th>\n",
       "      <th>SVHC</th>\n",
       "      <th>negative.|3733</th>\n",
       "    </tr>\n",
       "  </thead>\n",
       "  <tbody>\n",
       "    <tr>\n",
       "      <th>count</th>\n",
       "      <td>2799</td>\n",
       "      <td>2799</td>\n",
       "      <td>2799</td>\n",
       "      <td>2799</td>\n",
       "      <td>2799</td>\n",
       "      <td>2799</td>\n",
       "      <td>2799</td>\n",
       "      <td>2799</td>\n",
       "      <td>2799</td>\n",
       "      <td>2799</td>\n",
       "      <td>...</td>\n",
       "      <td>2799</td>\n",
       "      <td>2799</td>\n",
       "      <td>2799</td>\n",
       "      <td>2799</td>\n",
       "      <td>2799</td>\n",
       "      <td>2799</td>\n",
       "      <td>2799</td>\n",
       "      <td>2799</td>\n",
       "      <td>2799</td>\n",
       "      <td>2799</td>\n",
       "    </tr>\n",
       "    <tr>\n",
       "      <th>unique</th>\n",
       "      <td>94</td>\n",
       "      <td>3</td>\n",
       "      <td>2</td>\n",
       "      <td>2</td>\n",
       "      <td>2</td>\n",
       "      <td>2</td>\n",
       "      <td>2</td>\n",
       "      <td>2</td>\n",
       "      <td>2</td>\n",
       "      <td>2</td>\n",
       "      <td>...</td>\n",
       "      <td>2</td>\n",
       "      <td>218</td>\n",
       "      <td>2</td>\n",
       "      <td>139</td>\n",
       "      <td>2</td>\n",
       "      <td>210</td>\n",
       "      <td>1</td>\n",
       "      <td>1</td>\n",
       "      <td>5</td>\n",
       "      <td>2799</td>\n",
       "    </tr>\n",
       "    <tr>\n",
       "      <th>top</th>\n",
       "      <td>59</td>\n",
       "      <td>F</td>\n",
       "      <td>f</td>\n",
       "      <td>f</td>\n",
       "      <td>f</td>\n",
       "      <td>f</td>\n",
       "      <td>f</td>\n",
       "      <td>f</td>\n",
       "      <td>f</td>\n",
       "      <td>f</td>\n",
       "      <td>...</td>\n",
       "      <td>t</td>\n",
       "      <td>?</td>\n",
       "      <td>t</td>\n",
       "      <td>?</td>\n",
       "      <td>t</td>\n",
       "      <td>?</td>\n",
       "      <td>f</td>\n",
       "      <td>?</td>\n",
       "      <td>other</td>\n",
       "      <td>negative.|2964</td>\n",
       "    </tr>\n",
       "    <tr>\n",
       "      <th>freq</th>\n",
       "      <td>75</td>\n",
       "      <td>1829</td>\n",
       "      <td>2469</td>\n",
       "      <td>2759</td>\n",
       "      <td>2765</td>\n",
       "      <td>2689</td>\n",
       "      <td>2758</td>\n",
       "      <td>2760</td>\n",
       "      <td>2751</td>\n",
       "      <td>2636</td>\n",
       "      <td>...</td>\n",
       "      <td>2615</td>\n",
       "      <td>184</td>\n",
       "      <td>2502</td>\n",
       "      <td>297</td>\n",
       "      <td>2504</td>\n",
       "      <td>295</td>\n",
       "      <td>2799</td>\n",
       "      <td>2799</td>\n",
       "      <td>1632</td>\n",
       "      <td>1</td>\n",
       "    </tr>\n",
       "  </tbody>\n",
       "</table>\n",
       "<p>4 rows × 30 columns</p>\n",
       "</div>"
      ],
      "text/plain": [
       "          41     F     f   f.1   f.2   f.3   f.4   f.5   f.6   f.7  ...   t.2  \\\n",
       "count   2799  2799  2799  2799  2799  2799  2799  2799  2799  2799  ...  2799   \n",
       "unique    94     3     2     2     2     2     2     2     2     2  ...     2   \n",
       "top       59     F     f     f     f     f     f     f     f     f  ...     t   \n",
       "freq      75  1829  2469  2759  2765  2689  2758  2760  2751  2636  ...  2615   \n",
       "\n",
       "         125   t.3  1.14   t.4   109  f.14     ?   SVHC  negative.|3733  \n",
       "count   2799  2799  2799  2799  2799  2799  2799   2799            2799  \n",
       "unique   218     2   139     2   210     1     1      5            2799  \n",
       "top        ?     t     ?     t     ?     f     ?  other  negative.|2964  \n",
       "freq     184  2502   297  2504   295  2799  2799   1632               1  \n",
       "\n",
       "[4 rows x 30 columns]"
      ]
     },
     "execution_count": 11,
     "metadata": {},
     "output_type": "execute_result"
    }
   ],
   "source": [
    "z.describe()"
   ]
  },
  {
   "cell_type": "code",
   "execution_count": null,
   "metadata": {},
   "outputs": [],
   "source": []
  }
 ],
 "metadata": {
  "kernelspec": {
   "display_name": "Python 3",
   "language": "python",
   "name": "python3"
  },
  "language_info": {
   "codemirror_mode": {
    "name": "ipython",
    "version": 3
   },
   "file_extension": ".py",
   "mimetype": "text/x-python",
   "name": "python",
   "nbconvert_exporter": "python",
   "pygments_lexer": "ipython3",
   "version": "3.6.8"
  }
 },
 "nbformat": 4,
 "nbformat_minor": 4
}
